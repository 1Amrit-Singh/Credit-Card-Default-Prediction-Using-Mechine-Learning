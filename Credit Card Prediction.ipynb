{
 "cells": [
  {
   "cell_type": "markdown",
   "id": "e284b8b0",
   "metadata": {},
   "source": [
    "#   About Data \n",
    "    ID: ID of each client\n",
    "    LIMIT_BAL: Amount of given credit in NT dollars (includes individual and family/supplementary credit\n",
    "    SEX: Gender (1=male, 2=female)\n",
    "    EDUCATION: (1=graduate school, 2=university, 3=high school, 4=others, 5=unknown, 6=unknown)\n",
    "    MARRIAGE: Marital status (1=married, 2=single, 3=others)\n",
    "    AGE: Age in years\n",
    "    PAY_0: Repayment status in September, 2005 (-1=pay duly, 1=payment delay for one month, 2=payment delay for two months, ... 8=payment delay for eight months, 9=payment delay for nine months and above)\n",
    "    PAY_2: Repayment status in August, 2005 (scale same as above)\n",
    "    PAY_3: Repayment status in July, 2005 (scale same as above)\n",
    "    PAY_4: Repayment status in June, 2005 (scale same as above)\n",
    "    PAY_5: Repayment status in May, 2005 (scale same as above)\n",
    "    PAY_6: Repayment status in April, 2005 (scale same as above)\n",
    "    BILL_AMT1: Amount of bill statement in September, 2005 (NT dollar)\n",
    "    BILL_AMT2: Amount of bill statement in August, 2005 (NT dollar)\n",
    "    BILL_AMT3: Amount of bill statement in July, 2005 (NT dollar)\n",
    "    BILL_AMT4: Amount of bill statement in June, 2005 (NT dollar)\n",
    "    BILL_AMT5: Amount of bill statement in May, 2005 (NT dollar)\n",
    "    BILL_AMT6: Amount of bill statement in April, 2005 (NT dollar)\n",
    "    PAY_AMT1: Amount of previous payment in September, 2005 (NT dollar)\n",
    "    PAY_AMT2: Amount of previous payment in August, 2005 (NT dollar)\n",
    "    PAY_AMT3: Amount of previous payment in July, 2005 (NT dollar)\n",
    "    PAY_AMT4: Amount of previous payment in June, 2005 (NT dollar)\n",
    "    PAY_AMT5: Amount of previous payment in May, 2005 (NT dollar)\n",
    "    PAY_AMT6: Amount of previous payment in April, 2005 (NT dollar)\n",
    "    default.payment.next.month: Default payment (1=yes, 0=no)"
   ]
  },
  {
   "cell_type": "code",
   "execution_count": 1,
   "id": "5bf4cd62",
   "metadata": {},
   "outputs": [],
   "source": [
    "import pandas as pd\n",
    "import numpy as np\n",
    "import seaborn as sns\n",
    "import matplotlib.pyplot as plt"
   ]
  },
  {
   "cell_type": "code",
   "execution_count": 2,
   "id": "fd4a4682",
   "metadata": {},
   "outputs": [],
   "source": [
    "df = pd.read_csv('e:credit/UCI_Credit_Card.csv')\n",
    "df = df.sample(n=2000,replace =False,random_state=1)"
   ]
  },
  {
   "cell_type": "code",
   "execution_count": 3,
   "id": "094a201d",
   "metadata": {},
   "outputs": [
    {
     "data": {
      "text/plain": [
       "(2000, 25)"
      ]
     },
     "execution_count": 3,
     "metadata": {},
     "output_type": "execute_result"
    }
   ],
   "source": [
    "df.shape"
   ]
  },
  {
   "cell_type": "code",
   "execution_count": 4,
   "id": "b6071f0f",
   "metadata": {},
   "outputs": [
    {
     "name": "stdout",
     "output_type": "stream",
     "text": [
      "<class 'pandas.core.frame.DataFrame'>\n",
      "Int64Index: 2000 entries, 10747 to 18714\n",
      "Data columns (total 25 columns):\n",
      " #   Column                      Non-Null Count  Dtype  \n",
      "---  ------                      --------------  -----  \n",
      " 0   ID                          2000 non-null   int64  \n",
      " 1   LIMIT_BAL                   2000 non-null   float64\n",
      " 2   SEX                         2000 non-null   int64  \n",
      " 3   EDUCATION                   2000 non-null   int64  \n",
      " 4   MARRIAGE                    2000 non-null   int64  \n",
      " 5   AGE                         2000 non-null   int64  \n",
      " 6   PAY_0                       2000 non-null   int64  \n",
      " 7   PAY_2                       2000 non-null   int64  \n",
      " 8   PAY_3                       2000 non-null   int64  \n",
      " 9   PAY_4                       2000 non-null   int64  \n",
      " 10  PAY_5                       2000 non-null   int64  \n",
      " 11  PAY_6                       2000 non-null   int64  \n",
      " 12  BILL_AMT1                   2000 non-null   float64\n",
      " 13  BILL_AMT2                   2000 non-null   float64\n",
      " 14  BILL_AMT3                   2000 non-null   float64\n",
      " 15  BILL_AMT4                   2000 non-null   float64\n",
      " 16  BILL_AMT5                   2000 non-null   float64\n",
      " 17  BILL_AMT6                   2000 non-null   float64\n",
      " 18  PAY_AMT1                    2000 non-null   float64\n",
      " 19  PAY_AMT2                    2000 non-null   float64\n",
      " 20  PAY_AMT3                    2000 non-null   float64\n",
      " 21  PAY_AMT4                    2000 non-null   float64\n",
      " 22  PAY_AMT5                    2000 non-null   float64\n",
      " 23  PAY_AMT6                    2000 non-null   float64\n",
      " 24  default.payment.next.month  2000 non-null   int64  \n",
      "dtypes: float64(13), int64(12)\n",
      "memory usage: 406.2 KB\n"
     ]
    }
   ],
   "source": [
    "df.info()"
   ]
  },
  {
   "cell_type": "markdown",
   "id": "a0fe8363",
   "metadata": {},
   "source": [
    "there are no null value present"
   ]
  },
  {
   "cell_type": "code",
   "execution_count": 5,
   "id": "d9f130cd",
   "metadata": {},
   "outputs": [
    {
     "data": {
      "text/plain": [
       "Index(['ID', 'LIMIT_BAL', 'SEX', 'EDUCATION', 'MARRIAGE', 'AGE', 'PAY_0',\n",
       "       'PAY_2', 'PAY_3', 'PAY_4', 'PAY_5', 'PAY_6', 'BILL_AMT1', 'BILL_AMT2',\n",
       "       'BILL_AMT3', 'BILL_AMT4', 'BILL_AMT5', 'BILL_AMT6', 'PAY_AMT1',\n",
       "       'PAY_AMT2', 'PAY_AMT3', 'PAY_AMT4', 'PAY_AMT5', 'PAY_AMT6',\n",
       "       'default.payment.next.month'],\n",
       "      dtype='object')"
      ]
     },
     "execution_count": 5,
     "metadata": {},
     "output_type": "execute_result"
    }
   ],
   "source": [
    "df.columns"
   ]
  },
  {
   "cell_type": "code",
   "execution_count": 6,
   "id": "e1614bae",
   "metadata": {},
   "outputs": [
    {
     "data": {
      "text/html": [
       "<div>\n",
       "<style scoped>\n",
       "    .dataframe tbody tr th:only-of-type {\n",
       "        vertical-align: middle;\n",
       "    }\n",
       "\n",
       "    .dataframe tbody tr th {\n",
       "        vertical-align: top;\n",
       "    }\n",
       "\n",
       "    .dataframe thead th {\n",
       "        text-align: right;\n",
       "    }\n",
       "</style>\n",
       "<table border=\"1\" class=\"dataframe\">\n",
       "  <thead>\n",
       "    <tr style=\"text-align: right;\">\n",
       "      <th></th>\n",
       "      <th>ID</th>\n",
       "      <th>LIMIT_BAL</th>\n",
       "      <th>SEX</th>\n",
       "      <th>EDUCATION</th>\n",
       "      <th>MARRIAGE</th>\n",
       "      <th>AGE</th>\n",
       "      <th>PAY_0</th>\n",
       "      <th>PAY_2</th>\n",
       "      <th>PAY_3</th>\n",
       "      <th>PAY_4</th>\n",
       "      <th>...</th>\n",
       "      <th>BILL_AMT4</th>\n",
       "      <th>BILL_AMT5</th>\n",
       "      <th>BILL_AMT6</th>\n",
       "      <th>PAY_AMT1</th>\n",
       "      <th>PAY_AMT2</th>\n",
       "      <th>PAY_AMT3</th>\n",
       "      <th>PAY_AMT4</th>\n",
       "      <th>PAY_AMT5</th>\n",
       "      <th>PAY_AMT6</th>\n",
       "      <th>default.payment.next.month</th>\n",
       "    </tr>\n",
       "  </thead>\n",
       "  <tbody>\n",
       "    <tr>\n",
       "      <th>10747</th>\n",
       "      <td>10748</td>\n",
       "      <td>310000.0</td>\n",
       "      <td>1</td>\n",
       "      <td>3</td>\n",
       "      <td>1</td>\n",
       "      <td>32</td>\n",
       "      <td>0</td>\n",
       "      <td>0</td>\n",
       "      <td>0</td>\n",
       "      <td>0</td>\n",
       "      <td>...</td>\n",
       "      <td>84373.0</td>\n",
       "      <td>57779.0</td>\n",
       "      <td>14163.0</td>\n",
       "      <td>8295.0</td>\n",
       "      <td>6000.0</td>\n",
       "      <td>4000.0</td>\n",
       "      <td>3000.0</td>\n",
       "      <td>1000.0</td>\n",
       "      <td>2000.0</td>\n",
       "      <td>0</td>\n",
       "    </tr>\n",
       "    <tr>\n",
       "      <th>12573</th>\n",
       "      <td>12574</td>\n",
       "      <td>10000.0</td>\n",
       "      <td>2</td>\n",
       "      <td>3</td>\n",
       "      <td>1</td>\n",
       "      <td>49</td>\n",
       "      <td>-1</td>\n",
       "      <td>-1</td>\n",
       "      <td>-2</td>\n",
       "      <td>-1</td>\n",
       "      <td>...</td>\n",
       "      <td>1690.0</td>\n",
       "      <td>1138.0</td>\n",
       "      <td>930.0</td>\n",
       "      <td>0.0</td>\n",
       "      <td>0.0</td>\n",
       "      <td>2828.0</td>\n",
       "      <td>0.0</td>\n",
       "      <td>182.0</td>\n",
       "      <td>0.0</td>\n",
       "      <td>1</td>\n",
       "    </tr>\n",
       "    <tr>\n",
       "      <th>29676</th>\n",
       "      <td>29677</td>\n",
       "      <td>50000.0</td>\n",
       "      <td>1</td>\n",
       "      <td>2</td>\n",
       "      <td>1</td>\n",
       "      <td>28</td>\n",
       "      <td>-1</td>\n",
       "      <td>-1</td>\n",
       "      <td>-1</td>\n",
       "      <td>0</td>\n",
       "      <td>...</td>\n",
       "      <td>45975.0</td>\n",
       "      <td>1300.0</td>\n",
       "      <td>43987.0</td>\n",
       "      <td>0.0</td>\n",
       "      <td>46257.0</td>\n",
       "      <td>2200.0</td>\n",
       "      <td>1300.0</td>\n",
       "      <td>43987.0</td>\n",
       "      <td>1386.0</td>\n",
       "      <td>0</td>\n",
       "    </tr>\n",
       "    <tr>\n",
       "      <th>8856</th>\n",
       "      <td>8857</td>\n",
       "      <td>80000.0</td>\n",
       "      <td>2</td>\n",
       "      <td>3</td>\n",
       "      <td>1</td>\n",
       "      <td>52</td>\n",
       "      <td>2</td>\n",
       "      <td>2</td>\n",
       "      <td>3</td>\n",
       "      <td>3</td>\n",
       "      <td>...</td>\n",
       "      <td>40748.0</td>\n",
       "      <td>39816.0</td>\n",
       "      <td>40607.0</td>\n",
       "      <td>3700.0</td>\n",
       "      <td>1600.0</td>\n",
       "      <td>1600.0</td>\n",
       "      <td>0.0</td>\n",
       "      <td>1600.0</td>\n",
       "      <td>1600.0</td>\n",
       "      <td>1</td>\n",
       "    </tr>\n",
       "    <tr>\n",
       "      <th>21098</th>\n",
       "      <td>21099</td>\n",
       "      <td>270000.0</td>\n",
       "      <td>1</td>\n",
       "      <td>1</td>\n",
       "      <td>2</td>\n",
       "      <td>34</td>\n",
       "      <td>1</td>\n",
       "      <td>2</td>\n",
       "      <td>0</td>\n",
       "      <td>0</td>\n",
       "      <td>...</td>\n",
       "      <td>22448.0</td>\n",
       "      <td>15490.0</td>\n",
       "      <td>17343.0</td>\n",
       "      <td>0.0</td>\n",
       "      <td>4000.0</td>\n",
       "      <td>2000.0</td>\n",
       "      <td>0.0</td>\n",
       "      <td>2000.0</td>\n",
       "      <td>2000.0</td>\n",
       "      <td>0</td>\n",
       "    </tr>\n",
       "  </tbody>\n",
       "</table>\n",
       "<p>5 rows × 25 columns</p>\n",
       "</div>"
      ],
      "text/plain": [
       "          ID  LIMIT_BAL  SEX  EDUCATION  MARRIAGE  AGE  PAY_0  PAY_2  PAY_3  \\\n",
       "10747  10748   310000.0    1          3         1   32      0      0      0   \n",
       "12573  12574    10000.0    2          3         1   49     -1     -1     -2   \n",
       "29676  29677    50000.0    1          2         1   28     -1     -1     -1   \n",
       "8856    8857    80000.0    2          3         1   52      2      2      3   \n",
       "21098  21099   270000.0    1          1         2   34      1      2      0   \n",
       "\n",
       "       PAY_4  ...  BILL_AMT4  BILL_AMT5  BILL_AMT6  PAY_AMT1  PAY_AMT2  \\\n",
       "10747      0  ...    84373.0    57779.0    14163.0    8295.0    6000.0   \n",
       "12573     -1  ...     1690.0     1138.0      930.0       0.0       0.0   \n",
       "29676      0  ...    45975.0     1300.0    43987.0       0.0   46257.0   \n",
       "8856       3  ...    40748.0    39816.0    40607.0    3700.0    1600.0   \n",
       "21098      0  ...    22448.0    15490.0    17343.0       0.0    4000.0   \n",
       "\n",
       "       PAY_AMT3  PAY_AMT4  PAY_AMT5  PAY_AMT6  default.payment.next.month  \n",
       "10747    4000.0    3000.0    1000.0    2000.0                           0  \n",
       "12573    2828.0       0.0     182.0       0.0                           1  \n",
       "29676    2200.0    1300.0   43987.0    1386.0                           0  \n",
       "8856     1600.0       0.0    1600.0    1600.0                           1  \n",
       "21098    2000.0       0.0    2000.0    2000.0                           0  \n",
       "\n",
       "[5 rows x 25 columns]"
      ]
     },
     "execution_count": 6,
     "metadata": {},
     "output_type": "execute_result"
    }
   ],
   "source": [
    "df.head()"
   ]
  },
  {
   "cell_type": "code",
   "execution_count": 7,
   "id": "deff649c",
   "metadata": {},
   "outputs": [
    {
     "data": {
      "text/html": [
       "<div>\n",
       "<style scoped>\n",
       "    .dataframe tbody tr th:only-of-type {\n",
       "        vertical-align: middle;\n",
       "    }\n",
       "\n",
       "    .dataframe tbody tr th {\n",
       "        vertical-align: top;\n",
       "    }\n",
       "\n",
       "    .dataframe thead th {\n",
       "        text-align: right;\n",
       "    }\n",
       "</style>\n",
       "<table border=\"1\" class=\"dataframe\">\n",
       "  <thead>\n",
       "    <tr style=\"text-align: right;\">\n",
       "      <th></th>\n",
       "      <th>ID</th>\n",
       "      <th>LIMIT_BAL</th>\n",
       "      <th>SEX</th>\n",
       "      <th>EDUCATION</th>\n",
       "      <th>MARRIAGE</th>\n",
       "      <th>AGE</th>\n",
       "      <th>PAY_0</th>\n",
       "      <th>PAY_2</th>\n",
       "      <th>PAY_3</th>\n",
       "      <th>PAY_4</th>\n",
       "      <th>...</th>\n",
       "      <th>BILL_AMT4</th>\n",
       "      <th>BILL_AMT5</th>\n",
       "      <th>BILL_AMT6</th>\n",
       "      <th>PAY_AMT1</th>\n",
       "      <th>PAY_AMT2</th>\n",
       "      <th>PAY_AMT3</th>\n",
       "      <th>PAY_AMT4</th>\n",
       "      <th>PAY_AMT5</th>\n",
       "      <th>PAY_AMT6</th>\n",
       "      <th>default.payment.next.month</th>\n",
       "    </tr>\n",
       "  </thead>\n",
       "  <tbody>\n",
       "    <tr>\n",
       "      <th>23295</th>\n",
       "      <td>23296</td>\n",
       "      <td>160000.0</td>\n",
       "      <td>2</td>\n",
       "      <td>1</td>\n",
       "      <td>2</td>\n",
       "      <td>25</td>\n",
       "      <td>-1</td>\n",
       "      <td>0</td>\n",
       "      <td>-1</td>\n",
       "      <td>-1</td>\n",
       "      <td>...</td>\n",
       "      <td>2199.0</td>\n",
       "      <td>10856.0</td>\n",
       "      <td>0.0</td>\n",
       "      <td>1000.0</td>\n",
       "      <td>11426.0</td>\n",
       "      <td>2199.0</td>\n",
       "      <td>10000.0</td>\n",
       "      <td>0.0</td>\n",
       "      <td>9867.0</td>\n",
       "      <td>0</td>\n",
       "    </tr>\n",
       "    <tr>\n",
       "      <th>15148</th>\n",
       "      <td>15149</td>\n",
       "      <td>250000.0</td>\n",
       "      <td>1</td>\n",
       "      <td>1</td>\n",
       "      <td>1</td>\n",
       "      <td>53</td>\n",
       "      <td>-2</td>\n",
       "      <td>-2</td>\n",
       "      <td>-2</td>\n",
       "      <td>-2</td>\n",
       "      <td>...</td>\n",
       "      <td>0.0</td>\n",
       "      <td>0.0</td>\n",
       "      <td>0.0</td>\n",
       "      <td>0.0</td>\n",
       "      <td>0.0</td>\n",
       "      <td>0.0</td>\n",
       "      <td>0.0</td>\n",
       "      <td>0.0</td>\n",
       "      <td>0.0</td>\n",
       "      <td>1</td>\n",
       "    </tr>\n",
       "    <tr>\n",
       "      <th>18666</th>\n",
       "      <td>18667</td>\n",
       "      <td>50000.0</td>\n",
       "      <td>2</td>\n",
       "      <td>1</td>\n",
       "      <td>2</td>\n",
       "      <td>23</td>\n",
       "      <td>-1</td>\n",
       "      <td>-1</td>\n",
       "      <td>-2</td>\n",
       "      <td>-2</td>\n",
       "      <td>...</td>\n",
       "      <td>0.0</td>\n",
       "      <td>0.0</td>\n",
       "      <td>0.0</td>\n",
       "      <td>0.0</td>\n",
       "      <td>0.0</td>\n",
       "      <td>0.0</td>\n",
       "      <td>0.0</td>\n",
       "      <td>0.0</td>\n",
       "      <td>0.0</td>\n",
       "      <td>0</td>\n",
       "    </tr>\n",
       "    <tr>\n",
       "      <th>3415</th>\n",
       "      <td>3416</td>\n",
       "      <td>200000.0</td>\n",
       "      <td>2</td>\n",
       "      <td>2</td>\n",
       "      <td>1</td>\n",
       "      <td>37</td>\n",
       "      <td>0</td>\n",
       "      <td>0</td>\n",
       "      <td>0</td>\n",
       "      <td>0</td>\n",
       "      <td>...</td>\n",
       "      <td>191730.0</td>\n",
       "      <td>171269.0</td>\n",
       "      <td>151550.0</td>\n",
       "      <td>8017.0</td>\n",
       "      <td>8000.0</td>\n",
       "      <td>8000.0</td>\n",
       "      <td>9000.0</td>\n",
       "      <td>7000.0</td>\n",
       "      <td>6000.0</td>\n",
       "      <td>0</td>\n",
       "    </tr>\n",
       "    <tr>\n",
       "      <th>18714</th>\n",
       "      <td>18715</td>\n",
       "      <td>420000.0</td>\n",
       "      <td>2</td>\n",
       "      <td>1</td>\n",
       "      <td>2</td>\n",
       "      <td>28</td>\n",
       "      <td>0</td>\n",
       "      <td>0</td>\n",
       "      <td>-1</td>\n",
       "      <td>0</td>\n",
       "      <td>...</td>\n",
       "      <td>65592.0</td>\n",
       "      <td>57438.0</td>\n",
       "      <td>31029.0</td>\n",
       "      <td>1010.0</td>\n",
       "      <td>64513.0</td>\n",
       "      <td>2420.0</td>\n",
       "      <td>1473.0</td>\n",
       "      <td>1062.0</td>\n",
       "      <td>1022.0</td>\n",
       "      <td>0</td>\n",
       "    </tr>\n",
       "  </tbody>\n",
       "</table>\n",
       "<p>5 rows × 25 columns</p>\n",
       "</div>"
      ],
      "text/plain": [
       "          ID  LIMIT_BAL  SEX  EDUCATION  MARRIAGE  AGE  PAY_0  PAY_2  PAY_3  \\\n",
       "23295  23296   160000.0    2          1         2   25     -1      0     -1   \n",
       "15148  15149   250000.0    1          1         1   53     -2     -2     -2   \n",
       "18666  18667    50000.0    2          1         2   23     -1     -1     -2   \n",
       "3415    3416   200000.0    2          2         1   37      0      0      0   \n",
       "18714  18715   420000.0    2          1         2   28      0      0     -1   \n",
       "\n",
       "       PAY_4  ...  BILL_AMT4  BILL_AMT5  BILL_AMT6  PAY_AMT1  PAY_AMT2  \\\n",
       "23295     -1  ...     2199.0    10856.0        0.0    1000.0   11426.0   \n",
       "15148     -2  ...        0.0        0.0        0.0       0.0       0.0   \n",
       "18666     -2  ...        0.0        0.0        0.0       0.0       0.0   \n",
       "3415       0  ...   191730.0   171269.0   151550.0    8017.0    8000.0   \n",
       "18714      0  ...    65592.0    57438.0    31029.0    1010.0   64513.0   \n",
       "\n",
       "       PAY_AMT3  PAY_AMT4  PAY_AMT5  PAY_AMT6  default.payment.next.month  \n",
       "23295    2199.0   10000.0       0.0    9867.0                           0  \n",
       "15148       0.0       0.0       0.0       0.0                           1  \n",
       "18666       0.0       0.0       0.0       0.0                           0  \n",
       "3415     8000.0    9000.0    7000.0    6000.0                           0  \n",
       "18714    2420.0    1473.0    1062.0    1022.0                           0  \n",
       "\n",
       "[5 rows x 25 columns]"
      ]
     },
     "execution_count": 7,
     "metadata": {},
     "output_type": "execute_result"
    }
   ],
   "source": [
    "df.tail()"
   ]
  },
  {
   "cell_type": "markdown",
   "id": "35bea419",
   "metadata": {},
   "source": [
    "EDA"
   ]
  },
  {
   "cell_type": "markdown",
   "id": "28d21b87",
   "metadata": {},
   "source": [
    "0 for non defaulter\n",
    "1 for defaulter"
   ]
  },
  {
   "cell_type": "code",
   "execution_count": 8,
   "id": "6b51df27",
   "metadata": {},
   "outputs": [],
   "source": [
    "df = df.rename(columns={'default.payment.next.month': 'default','PAY_0': 'PAY_1'})"
   ]
  },
  {
   "cell_type": "raw",
   "id": "c48f02bc",
   "metadata": {},
   "source": [
    "change the coloume names for better undersand calleable"
   ]
  },
  {
   "cell_type": "code",
   "execution_count": 9,
   "id": "041387bc",
   "metadata": {},
   "outputs": [
    {
     "data": {
      "text/plain": [
       "<AxesSubplot:xlabel='LIMIT_BAL', ylabel='count'>"
      ]
     },
     "execution_count": 9,
     "metadata": {},
     "output_type": "execute_result"
    },
    {
     "data": {
      "image/png": "[encoded data removed]",
      "text/plain": [
       "<Figure size 1080x576 with 1 Axes>"
      ]
     },
     "metadata": {
      "needs_background": "light"
     },
     "output_type": "display_data"
    }
   ],
   "source": [
    "plt.figure(figsize=(15,8))\n",
    "plt.xticks(rotation=90)\n",
    "sns.countplot(data=df,x=\"LIMIT_BAL\")\n"
   ]
  },
  {
   "cell_type": "code",
   "execution_count": 10,
   "id": "ca29c855",
   "metadata": {},
   "outputs": [
    {
     "name": "stdout",
     "output_type": "stream",
     "text": [
      "50000.0     207\n",
      "20000.0     125\n",
      "200000.0    105\n",
      "30000.0     104\n",
      "80000.0      92\n",
      "Name: LIMIT_BAL, dtype: int64\n"
     ]
    },
    {
     "name": "stderr",
     "output_type": "stream",
     "text": [
      "C:\\Users\\amrit\\anaconda3\\lib\\site-packages\\seaborn\\distributions.py:2619: FutureWarning: `distplot` is a deprecated function and will be removed in a future version. Please adapt your code to use either `displot` (a figure-level function with similar flexibility) or `histplot` (an axes-level function for histograms).\n",
      "  warnings.warn(msg, FutureWarning)\n"
     ]
    },
    {
     "data": {
      "text/plain": [
       "<AxesSubplot:xlabel='LIMIT_BAL', ylabel='Density'>"
      ]
     },
     "execution_count": 10,
     "metadata": {},
     "output_type": "execute_result"
    },
    {
     "data": {
      "image/png": "[encoded data removed]",
      "text/plain": [
       "<Figure size 1080x576 with 1 Axes>"
      ]
     },
     "metadata": {
      "needs_background": "light"
     },
     "output_type": "display_data"
    }
   ],
   "source": [
    "print(df['LIMIT_BAL'].value_counts().head(5))\n",
    "plt.figure(figsize=(15,8))\n",
    "sns.distplot(df['LIMIT_BAL'],kde=True,bins=200)"
   ]
  },
  {
   "cell_type": "raw",
   "id": "55a002ba",
   "metadata": {},
   "source": [
    "From the above plot, morethan 20% of the creditholders defaulted; and the largest group of amount of credit is 50,000"
   ]
  },
  {
   "cell_type": "code",
   "execution_count": 11,
   "id": "ce28d8f1",
   "metadata": {},
   "outputs": [
    {
     "name": "stderr",
     "output_type": "stream",
     "text": [
      "C:\\Users\\amrit\\anaconda3\\lib\\site-packages\\seaborn\\distributions.py:2619: FutureWarning: `distplot` is a deprecated function and will be removed in a future version. Please adapt your code to use either `displot` (a figure-level function with similar flexibility) or `histplot` (an axes-level function for histograms).\n",
      "  warnings.warn(msg, FutureWarning)\n",
      "C:\\Users\\amrit\\anaconda3\\lib\\site-packages\\seaborn\\distributions.py:2619: FutureWarning: `distplot` is a deprecated function and will be removed in a future version. Please adapt your code to use either `displot` (a figure-level function with similar flexibility) or `histplot` (an axes-level function for histograms).\n",
      "  warnings.warn(msg, FutureWarning)\n"
     ]
    },
    {
     "data": {
      "image/png": "[encoded data removed]",
      "text/plain": [
       "<Figure size 864x576 with 1 Axes>"
      ]
     },
     "metadata": {
      "needs_background": "light"
     },
     "output_type": "display_data"
    }
   ],
   "source": [
    "# Amount of credit limit grouped by default payment next month\n",
    "group_1 = df.loc[df['default'] == 0][\"LIMIT_BAL\"]\n",
    "group_2 = df.loc[df['default'] == 1][\"LIMIT_BAL\"]\n",
    "plt.figure(figsize = (12,8))\n",
    "plt.title('Default amount of credit limit  - grouped by Payment Next Month')\n",
    "sns.set_color_codes(\"pastel\")\n",
    "sns.distplot(group_1,kde=True,bins=200, color=\"red\")\n",
    "sns.distplot(group_2,kde=True,bins=200, color=\"black\")\n",
    "plt.show()"
   ]
  },
  {
   "cell_type": "code",
   "execution_count": 12,
   "id": "ead8a580",
   "metadata": {},
   "outputs": [
    {
     "data": {
      "text/plain": [
       "<AxesSubplot:xlabel='index', ylabel='SEX'>"
      ]
     },
     "execution_count": 12,
     "metadata": {},
     "output_type": "execute_result"
    },
    {
     "data": {
      "image/png": "[encoded data removed]",
      "text/plain": [
       "<Figure size 720x360 with 2 Axes>"
      ]
     },
     "metadata": {
      "needs_background": "light"
     },
     "output_type": "display_data"
    },
    {
     "data": {
      "text/plain": [
       "<Figure size 936x576 with 0 Axes>"
      ]
     },
     "metadata": {},
     "output_type": "display_data"
    }
   ],
   "source": [
    "fig, axes = plt.subplots(ncols=2,figsize=(10,5))\n",
    "Day_df=df['SEX'].value_counts().reset_index()\n",
    "plt.figure(figsize=(13,8))\n",
    "df['SEX'].value_counts().plot(kind=\"pie\",ax = axes[0],subplots=True)\n",
    "sns.barplot(x='index',y='SEX',data=Day_df,ax = axes[1])"
   ]
  },
  {
   "cell_type": "code",
   "execution_count": 13,
   "id": "5e7e0662",
   "metadata": {},
   "outputs": [
    {
     "data": {
      "text/plain": [
       "array([3, 2, 1, 5, 4, 6], dtype=int64)"
      ]
     },
     "execution_count": 13,
     "metadata": {},
     "output_type": "execute_result"
    }
   ],
   "source": [
    "df['EDUCATION'].unique()"
   ]
  },
  {
   "cell_type": "code",
   "execution_count": 14,
   "id": "ac495bfb",
   "metadata": {},
   "outputs": [
    {
     "data": {
      "text/plain": [
       "<AxesSubplot:xlabel='EDUCATION', ylabel='count'>"
      ]
     },
     "execution_count": 14,
     "metadata": {},
     "output_type": "execute_result"
    },
    {
     "data": {
      "image/png": "[encoded data removed]",
      "text/plain": [
       "<Figure size 432x288 with 1 Axes>"
      ]
     },
     "metadata": {
      "needs_background": "light"
     },
     "output_type": "display_data"
    }
   ],
   "source": [
    "sns.countplot(data=df,x='EDUCATION')"
   ]
  },
  {
   "cell_type": "code",
   "execution_count": 15,
   "id": "e72fec34",
   "metadata": {},
   "outputs": [],
   "source": [
    "fil = (df.EDUCATION == 5) | (df.EDUCATION == 6) | (df.EDUCATION == 0)\n",
    "df.loc[fil, 'EDUCATION'] = 4"
   ]
  },
  {
   "cell_type": "code",
   "execution_count": 16,
   "id": "48e58f02",
   "metadata": {},
   "outputs": [
    {
     "data": {
      "text/plain": [
       "<AxesSubplot:xlabel='EDUCATION', ylabel='count'>"
      ]
     },
     "execution_count": 16,
     "metadata": {},
     "output_type": "execute_result"
    },
    {
     "data": {
      "image/png": "[encoded data removed]",
      "text/plain": [
       "<Figure size 432x288 with 1 Axes>"
      ]
     },
     "metadata": {
      "needs_background": "light"
     },
     "output_type": "display_data"
    }
   ],
   "source": [
    "sns.countplot(data=df,x='EDUCATION')"
   ]
  },
  {
   "cell_type": "raw",
   "id": "9584d296",
   "metadata": {},
   "source": [
    "as in the data description the 4 th education is other's where 5th and 6th are not mensoned thats whay we can change them to 4 "
   ]
  },
  {
   "cell_type": "code",
   "execution_count": 17,
   "id": "7add738a",
   "metadata": {},
   "outputs": [
    {
     "data": {
      "text/plain": [
       "<AxesSubplot:xlabel='MARRIAGE', ylabel='count'>"
      ]
     },
     "execution_count": 17,
     "metadata": {},
     "output_type": "execute_result"
    },
    {
     "data": {
      "image/png": "[encoded data removed]",
      "text/plain": [
       "<Figure size 432x288 with 1 Axes>"
      ]
     },
     "metadata": {
      "needs_background": "light"
     },
     "output_type": "display_data"
    }
   ],
   "source": [
    "sns.countplot(data=df,x='MARRIAGE')"
   ]
  },
  {
   "cell_type": "code",
   "execution_count": 18,
   "id": "ef9049be",
   "metadata": {},
   "outputs": [],
   "source": [
    "fil = (df.MARRIAGE == 0) \n",
    "df.loc[fil, 'MARRIAGE'] = 3"
   ]
  },
  {
   "cell_type": "code",
   "execution_count": 19,
   "id": "fd846e0b",
   "metadata": {},
   "outputs": [
    {
     "data": {
      "text/plain": [
       "<AxesSubplot:xlabel='MARRIAGE', ylabel='count'>"
      ]
     },
     "execution_count": 19,
     "metadata": {},
     "output_type": "execute_result"
    },
    {
     "data": {
      "image/png": "[encoded data removed]",
      "text/plain": [
       "<Figure size 432x288 with 1 Axes>"
      ]
     },
     "metadata": {
      "needs_background": "light"
     },
     "output_type": "display_data"
    }
   ],
   "source": [
    "sns.countplot(data=df,x='MARRIAGE')"
   ]
  },
  {
   "cell_type": "code",
   "execution_count": null,
   "id": "ca004e68",
   "metadata": {},
   "outputs": [],
   "source": []
  },
  {
   "cell_type": "code",
   "execution_count": 20,
   "id": "31ece135",
   "metadata": {},
   "outputs": [
    {
     "data": {
      "text/plain": [
       "<AxesSubplot:xlabel='AGE', ylabel='count'>"
      ]
     },
     "execution_count": 20,
     "metadata": {},
     "output_type": "execute_result"
    },
    {
     "data": {
      "image/png": "[encoded data removed]",
      "text/plain": [
       "<Figure size 1080x576 with 1 Axes>"
      ]
     },
     "metadata": {
      "needs_background": "light"
     },
     "output_type": "display_data"
    }
   ],
   "source": [
    "plt.figure(figsize = (15,8))\n",
    "sns.countplot(data=df,x='AGE')"
   ]
  },
  {
   "cell_type": "code",
   "execution_count": 21,
   "id": "26ee5ace",
   "metadata": {},
   "outputs": [
    {
     "data": {
      "text/plain": [
       "<AxesSubplot:xlabel='PAY_1', ylabel='count'>"
      ]
     },
     "execution_count": 21,
     "metadata": {},
     "output_type": "execute_result"
    },
    {
     "data": {
      "image/png": "[encoded data removed]",
      "text/plain": [
       "<Figure size 720x576 with 1 Axes>"
      ]
     },
     "metadata": {
      "needs_background": "light"
     },
     "output_type": "display_data"
    }
   ],
   "source": [
    "plt.figure(figsize=(10,8))\n",
    "sns.countplot(data=df,x='PAY_1')"
   ]
  },
  {
   "cell_type": "code",
   "execution_count": 22,
   "id": "bddc63a0",
   "metadata": {},
   "outputs": [
    {
     "data": {
      "text/plain": [
       "<AxesSubplot:xlabel='PAY_2', ylabel='count'>"
      ]
     },
     "execution_count": 22,
     "metadata": {},
     "output_type": "execute_result"
    },
    {
     "data": {
      "image/png": "[encoded data removed]",
      "text/plain": [
       "<Figure size 720x576 with 1 Axes>"
      ]
     },
     "metadata": {
      "needs_background": "light"
     },
     "output_type": "display_data"
    }
   ],
   "source": [
    "plt.figure(figsize=(10,8))\n",
    "sns.countplot(data=df,x='PAY_2')"
   ]
  },
  {
   "cell_type": "code",
   "execution_count": 23,
   "id": "e8c294ef",
   "metadata": {},
   "outputs": [
    {
     "data": {
      "text/plain": [
       "<AxesSubplot:xlabel='PAY_3', ylabel='count'>"
      ]
     },
     "execution_count": 23,
     "metadata": {},
     "output_type": "execute_result"
    },
    {
     "data": {
      "image/png": "[encoded data removed]",
      "text/plain": [
       "<Figure size 720x576 with 1 Axes>"
      ]
     },
     "metadata": {
      "needs_background": "light"
     },
     "output_type": "display_data"
    }
   ],
   "source": [
    "plt.figure(figsize=(10,8))\n",
    "sns.countplot(data=df,x='PAY_3')"
   ]
  },
  {
   "cell_type": "code",
   "execution_count": 24,
   "id": "80a0ae69",
   "metadata": {},
   "outputs": [
    {
     "data": {
      "text/plain": [
       "<AxesSubplot:xlabel='PAY_4', ylabel='count'>"
      ]
     },
     "execution_count": 24,
     "metadata": {},
     "output_type": "execute_result"
    },
    {
     "data": {
      "image/png": "[encoded data removed]",
      "text/plain": [
       "<Figure size 720x576 with 1 Axes>"
      ]
     },
     "metadata": {
      "needs_background": "light"
     },
     "output_type": "display_data"
    }
   ],
   "source": [
    "plt.figure(figsize=(10,8))\n",
    "sns.countplot(data=df,x='PAY_4')"
   ]
  },
  {
   "cell_type": "code",
   "execution_count": 25,
   "id": "bacdbde7",
   "metadata": {},
   "outputs": [
    {
     "data": {
      "text/plain": [
       "<AxesSubplot:xlabel='PAY_5', ylabel='count'>"
      ]
     },
     "execution_count": 25,
     "metadata": {},
     "output_type": "execute_result"
    },
    {
     "data": {
      "image/png": "[encoded data removed]",
      "text/plain": [
       "<Figure size 720x576 with 1 Axes>"
      ]
     },
     "metadata": {
      "needs_background": "light"
     },
     "output_type": "display_data"
    }
   ],
   "source": [
    "plt.figure(figsize=(10,8))\n",
    "sns.countplot(data=df,x='PAY_5')"
   ]
  },
  {
   "cell_type": "code",
   "execution_count": 26,
   "id": "4055c031",
   "metadata": {},
   "outputs": [
    {
     "data": {
      "text/plain": [
       "<AxesSubplot:xlabel='PAY_6', ylabel='count'>"
      ]
     },
     "execution_count": 26,
     "metadata": {},
     "output_type": "execute_result"
    },
    {
     "data": {
      "image/png": "[encoded data removed]",
      "text/plain": [
       "<Figure size 720x576 with 1 Axes>"
      ]
     },
     "metadata": {
      "needs_background": "light"
     },
     "output_type": "display_data"
    }
   ],
   "source": [
    "plt.figure(figsize=(10,8))\n",
    "sns.countplot(data=df,x='PAY_6')"
   ]
  },
  {
   "cell_type": "markdown",
   "id": "90c47143",
   "metadata": {},
   "source": [
    "# DATA Cleaning"
   ]
  },
  {
   "cell_type": "code",
   "execution_count": 27,
   "id": "6ce44b1e",
   "metadata": {},
   "outputs": [],
   "source": [
    "df.drop('ID', axis = 1, inplace =True)"
   ]
  },
  {
   "cell_type": "markdown",
   "id": "13a8ceb7",
   "metadata": {},
   "source": [
    "remove ID coloum because it seems not nesesery it's like sequencial no and sequence does not matters on predition"
   ]
  },
  {
   "cell_type": "markdown",
   "id": "2dbac9a3",
   "metadata": {},
   "source": [
    "from the last 6 plots we can see and form that data we get that -1,-2 and 0 are pay due on time lets morage these three coloums for better to analysis"
   ]
  },
  {
   "cell_type": "code",
   "execution_count": 28,
   "id": "5e3764a4",
   "metadata": {},
   "outputs": [
    {
     "data": {
      "text/plain": [
       "0    1788\n",
       "2     190\n",
       "3      10\n",
       "4       5\n",
       "7       3\n",
       "5       2\n",
       "6       2\n",
       "Name: PAY_6, dtype: int64"
      ]
     },
     "execution_count": 28,
     "metadata": {},
     "output_type": "execute_result"
    }
   ],
   "source": [
    "fil = (df.PAY_1 == -1) | (df.PAY_1==-2)\n",
    "df.loc[fil,'PAY_1']=0\n",
    "df.PAY_1.value_counts()\n",
    "fil = (df.PAY_2 == -1) | (df.PAY_2==-2)\n",
    "df.loc[fil,'PAY_2']=0\n",
    "df.PAY_2.value_counts()\n",
    "fil = (df.PAY_3 == -1) | (df.PAY_3==-2)\n",
    "df.loc[fil,'PAY_3']=0\n",
    "df.PAY_3.value_counts()\n",
    "fil = (df.PAY_4 == -1) | (df.PAY_4==-2)\n",
    "df.loc[fil,'PAY_4']=0\n",
    "df.PAY_4.value_counts()\n",
    "fil = (df.PAY_5 == -1) | (df.PAY_5==-2)\n",
    "df.loc[fil,'PAY_5']=0\n",
    "df.PAY_5.value_counts()\n",
    "fil = (df.PAY_6 == -1) | (df.PAY_6==-2)\n",
    "df.loc[fil,'PAY_6']=0\n",
    "df.PAY_6.value_counts()"
   ]
  },
  {
   "cell_type": "raw",
   "id": "ed5c4ce0",
   "metadata": {},
   "source": [
    "let's compairing all the data with respect to default coloums and see whats the out comes"
   ]
  },
  {
   "cell_type": "code",
   "execution_count": 29,
   "id": "a23243c6",
   "metadata": {},
   "outputs": [
    {
     "data": {
      "text/plain": [
       "<AxesSubplot:title={'center':'SEX Vs DEFAULT'}, xlabel='SEX', ylabel='count'>"
      ]
     },
     "execution_count": 29,
     "metadata": {},
     "output_type": "execute_result"
    },
    {
     "data": {
      "image/png": "[encoded data removed]",
      "text/plain": [
       "<Figure size 432x288 with 1 Axes>"
      ]
     },
     "metadata": {
      "needs_background": "light"
     },
     "output_type": "display_data"
    }
   ],
   "source": [
    "plt.title('SEX Vs DEFAULT')\n",
    "sns.countplot(x='SEX', data=df,hue=\"default\", palette=\"muted\")  "
   ]
  },
  {
   "cell_type": "raw",
   "id": "bf323eb5",
   "metadata": {},
   "source": [
    " we get from the above output that females have overall less default payments wrt males\n",
    "(1:for male,0:for female) and (1:for default, 0:for non-default)"
   ]
  },
  {
   "cell_type": "code",
   "execution_count": 30,
   "id": "5e6042ac",
   "metadata": {},
   "outputs": [
    {
     "data": {
      "text/plain": [
       "<AxesSubplot:xlabel='EDUCATION', ylabel='count'>"
      ]
     },
     "execution_count": 30,
     "metadata": {},
     "output_type": "execute_result"
    },
    {
     "data": {
      "image/png": "[encoded data removed]",
      "text/plain": [
       "<Figure size 432x288 with 1 Axes>"
      ]
     },
     "metadata": {
      "needs_background": "light"
     },
     "output_type": "display_data"
    }
   ],
   "source": [
    "sns.countplot(x='EDUCATION', data=df,hue=\"default\", palette=\"muted\")  "
   ]
  },
  {
   "cell_type": "raw",
   "id": "be69b0ae",
   "metadata": {},
   "source": [
    "From the above plot,it is clear that those people who are university students have less default payment with respect to graduates and high school people"
   ]
  },
  {
   "cell_type": "code",
   "execution_count": 31,
   "id": "087cb5cc",
   "metadata": {},
   "outputs": [
    {
     "data": {
      "text/plain": [
       "<AxesSubplot:xlabel='MARRIAGE', ylabel='count'>"
      ]
     },
     "execution_count": 31,
     "metadata": {},
     "output_type": "execute_result"
    },
    {
     "data": {
      "image/png": "[encoded data removed]",
      "text/plain": [
       "<Figure size 432x288 with 1 Axes>"
      ]
     },
     "metadata": {
      "needs_background": "light"
     },
     "output_type": "display_data"
    }
   ],
   "source": [
    "sns.countplot(x='MARRIAGE', data=df,hue=\"default\", palette=\"muted\")  "
   ]
  },
  {
   "cell_type": "raw",
   "id": "1bc90131",
   "metadata": {},
   "source": [
    "From the above plot it is clear that those people who have marital status single have less default payment with respect to married status people"
   ]
  },
  {
   "cell_type": "code",
   "execution_count": 32,
   "id": "2b9ad4c7",
   "metadata": {},
   "outputs": [
    {
     "data": {
      "text/plain": [
       "<AxesSubplot:xlabel='default', ylabel='AGE'>"
      ]
     },
     "execution_count": 32,
     "metadata": {},
     "output_type": "execute_result"
    },
    {
     "data": {
      "image/png": "[encoded data removed]",
      "text/plain": [
       "<Figure size 720x576 with 1 Axes>"
      ]
     },
     "metadata": {
      "needs_background": "light"
     },
     "output_type": "display_data"
    }
   ],
   "source": [
    "plt.figure(figsize=(10,8))\n",
    "sns.boxplot(x='default',y='AGE',data=df,palette='rainbow')"
   ]
  },
  {
   "cell_type": "raw",
   "id": "cbd37b93",
   "metadata": {},
   "source": [
    "it means most costomers whose age in between 28 to 42 are non defaulter and remain costomers may be defaulter "
   ]
  },
  {
   "cell_type": "raw",
   "id": "bd2e0d9d",
   "metadata": {},
   "source": [
    "let's compaire all pay status coloums with default coloum"
   ]
  },
  {
   "cell_type": "code",
   "execution_count": 33,
   "id": "04e1b3f3",
   "metadata": {},
   "outputs": [
    {
     "data": {
      "image/png": "[encoded data removed]",
      "text/plain": [
       "<Figure size 1296x576 with 6 Axes>"
      ]
     },
     "metadata": {
      "needs_background": "light"
     },
     "output_type": "display_data"
    }
   ],
   "source": [
    "def getColumnsNames(prefix):\n",
    "    return [prefix+str(x) for x in range(1,7)]\n",
    "pay_status_columns = getColumnsNames('PAY_')\n",
    "figure, ax = plt.subplots(2,3)\n",
    "figure.set_size_inches(18,8)\n",
    "\n",
    "for i in range(len(pay_status_columns)):\n",
    "    row,col = int(i/3), i%3\n",
    "    d  = df[pay_status_columns[i]].value_counts()\n",
    "    x = df[pay_status_columns[i]][(df['default']==1)].value_counts()\n",
    "    ax[row,col].bar(d.index, d, align='center', color='green')\n",
    "    ax[row,col].bar(x.index, x, align='center', color='yellow', alpha=0.7)\n",
    "    ax[row,col].set_title(pay_status_columns[i])"
   ]
  },
  {
   "cell_type": "raw",
   "id": "70500cc1",
   "metadata": {},
   "source": [
    "And now let's compaire all BILL-AMT coloums with default coloum"
   ]
  },
  {
   "cell_type": "code",
   "execution_count": 34,
   "id": "d08de240",
   "metadata": {},
   "outputs": [
    {
     "data": {
      "image/png": "[encoded data removed]",
      "text/plain": [
       "<Figure size 1296x576 with 6 Axes>"
      ]
     },
     "metadata": {
      "needs_background": "light"
     },
     "output_type": "display_data"
    }
   ],
   "source": [
    "pay_amt_columns = getColumnsNames('PAY_AMT')\n",
    "figure, ax = plt.subplots(3,2)\n",
    "figure.set_size_inches(18,8)\n",
    "\n",
    "for i in range(len(pay_status_columns)):\n",
    "    row,col =  i%3, int(i/3)\n",
    "   \n",
    "    ax[row,col].hist(df[pay_amt_columns[i]], 30, color ='green')\n",
    "    ax[row,col].hist(df[pay_amt_columns[i]][(df['default']==1)],30,color='yellow',alpha = 0.7)\n",
    "    ax[row,col].set_title(pay_amt_columns[i])\n",
    "    #adding scaling to make the graph more helpful\n",
    "    ax[row,col].set_yscale('log')\n",
    "plt.tight_layout()\n",
    "plt.show()\n"
   ]
  },
  {
   "cell_type": "raw",
   "id": "ff504ab5",
   "metadata": {},
   "source": [
    "And now let's compaire all BILL-AMT coloums with default coloum"
   ]
  },
  {
   "cell_type": "code",
   "execution_count": 35,
   "id": "e49f0baf",
   "metadata": {
    "scrolled": true
   },
   "outputs": [
    {
     "data": {
      "image/png": "[encoded data removed]",
      "text/plain": [
       "<Figure size 1296x576 with 6 Axes>"
      ]
     },
     "metadata": {
      "needs_background": "light"
     },
     "output_type": "display_data"
    }
   ],
   "source": [
    "pay_amt_columns = getColumnsNames('BILL_AMT')\n",
    "figure, ax = plt.subplots(3,2)\n",
    "figure.set_size_inches(18,8)\n",
    "\n",
    "for i in range(len(pay_status_columns)):\n",
    "    row,col =  i%3, int(i/3)\n",
    "   \n",
    "    ax[row,col].hist(df[pay_amt_columns[i]], 30, color ='green')\n",
    "    ax[row,col].hist(df[pay_amt_columns[i]][(df['default']==1)],30,color='yellow',alpha = 0.7)\n",
    "    ax[row,col].set_title(pay_amt_columns[i])\n",
    "    #adding scaling to make the graph more helpful\n",
    "    ax[row,col].set_yscale('log')\n",
    "plt.tight_layout()\n",
    "plt.show()\n"
   ]
  },
  {
   "cell_type": "markdown",
   "id": "7e7e3757",
   "metadata": {},
   "source": [
    "# Observing Correlation between features of the Dataset"
   ]
  },
  {
   "cell_type": "code",
   "execution_count": 36,
   "id": "450f9d35",
   "metadata": {},
   "outputs": [],
   "source": [
    "correlation = df.corr()"
   ]
  },
  {
   "cell_type": "code",
   "execution_count": 37,
   "id": "2389abf2",
   "metadata": {},
   "outputs": [
    {
     "data": {
      "text/plain": [
       "<AxesSubplot:>"
      ]
     },
     "execution_count": 37,
     "metadata": {},
     "output_type": "execute_result"
    },
    {
     "data": {
      "image/png": "[encoded data removed]",
      "text/plain": [
       "<Figure size 2160x720 with 2 Axes>"
      ]
     },
     "metadata": {
      "needs_background": "light"
     },
     "output_type": "display_data"
    }
   ],
   "source": [
    "plt.subplots(figsize=(30,10))\n",
    "sns.heatmap( correlation, square=True, annot=True, fmt=\".1f\" ) "
   ]
  },
  {
   "cell_type": "code",
   "execution_count": 38,
   "id": "bd0a87de",
   "metadata": {},
   "outputs": [
    {
     "data": {
      "text/plain": [
       "<AxesSubplot:title={'center':'Correlation with Default'}>"
      ]
     },
     "execution_count": 38,
     "metadata": {},
     "output_type": "execute_result"
    },
    {
     "data": {
      "image/png": "[encoded data removed]",
      "text/plain": [
       "<Figure size 1440x720 with 1 Axes>"
      ]
     },
     "metadata": {
      "needs_background": "light"
     },
     "output_type": "display_data"
    }
   ],
   "source": [
    "X = df.drop(['default'],axis=1)\n",
    "X.corrwith(df['default']).plot.bar(figsize = (20, 10), title = \"Correlation with Default\",fontsize = 20,rot = 90)"
   ]
  },
  {
   "cell_type": "raw",
   "id": "99911970",
   "metadata": {},
   "source": [
    " it looks like the  PAY_ variables are the strongest predictors of default"
   ]
  },
  {
   "cell_type": "markdown",
   "id": "1b28322f",
   "metadata": {},
   "source": [
    "# Feature Scaling of Numerical Attributes"
   ]
  },
  {
   "cell_type": "code",
   "execution_count": 39,
   "id": "02f79e23",
   "metadata": {},
   "outputs": [],
   "source": [
    "col_to_norm = ['LIMIT_BAL', 'AGE', 'BILL_AMT1', 'BILL_AMT2', 'BILL_AMT3', 'BILL_AMT4',\n",
    "       'BILL_AMT5', 'BILL_AMT6', 'PAY_AMT1', 'PAY_AMT2', 'PAY_AMT3',\n",
    "       'PAY_AMT4', 'PAY_AMT5', 'PAY_AMT6']\n",
    "df[col_to_norm] = df[col_to_norm].apply(lambda x : (x-np.mean(x))/np.std(x))"
   ]
  },
  {
   "cell_type": "code",
   "execution_count": 40,
   "id": "7f7a1b27",
   "metadata": {},
   "outputs": [
    {
     "data": {
      "text/html": [
       "<div>\n",
       "<style scoped>\n",
       "    .dataframe tbody tr th:only-of-type {\n",
       "        vertical-align: middle;\n",
       "    }\n",
       "\n",
       "    .dataframe tbody tr th {\n",
       "        vertical-align: top;\n",
       "    }\n",
       "\n",
       "    .dataframe thead th {\n",
       "        text-align: right;\n",
       "    }\n",
       "</style>\n",
       "<table border=\"1\" class=\"dataframe\">\n",
       "  <thead>\n",
       "    <tr style=\"text-align: right;\">\n",
       "      <th></th>\n",
       "      <th>LIMIT_BAL</th>\n",
       "      <th>SEX</th>\n",
       "      <th>EDUCATION</th>\n",
       "      <th>MARRIAGE</th>\n",
       "      <th>AGE</th>\n",
       "      <th>PAY_1</th>\n",
       "      <th>PAY_2</th>\n",
       "      <th>PAY_3</th>\n",
       "      <th>PAY_4</th>\n",
       "      <th>PAY_5</th>\n",
       "      <th>...</th>\n",
       "      <th>BILL_AMT4</th>\n",
       "      <th>BILL_AMT5</th>\n",
       "      <th>BILL_AMT6</th>\n",
       "      <th>PAY_AMT1</th>\n",
       "      <th>PAY_AMT2</th>\n",
       "      <th>PAY_AMT3</th>\n",
       "      <th>PAY_AMT4</th>\n",
       "      <th>PAY_AMT5</th>\n",
       "      <th>PAY_AMT6</th>\n",
       "      <th>default</th>\n",
       "    </tr>\n",
       "  </thead>\n",
       "  <tbody>\n",
       "    <tr>\n",
       "      <th>10747</th>\n",
       "      <td>1.050233</td>\n",
       "      <td>1</td>\n",
       "      <td>3</td>\n",
       "      <td>1</td>\n",
       "      <td>-0.378229</td>\n",
       "      <td>0</td>\n",
       "      <td>0</td>\n",
       "      <td>0</td>\n",
       "      <td>0</td>\n",
       "      <td>0</td>\n",
       "      <td>...</td>\n",
       "      <td>0.607543</td>\n",
       "      <td>0.262893</td>\n",
       "      <td>-0.421472</td>\n",
       "      <td>0.240538</td>\n",
       "      <td>-0.009029</td>\n",
       "      <td>-0.095826</td>\n",
       "      <td>-0.129128</td>\n",
       "      <td>-0.245872</td>\n",
       "      <td>-0.175478</td>\n",
       "      <td>0</td>\n",
       "    </tr>\n",
       "    <tr>\n",
       "      <th>12573</th>\n",
       "      <td>-1.229991</td>\n",
       "      <td>2</td>\n",
       "      <td>3</td>\n",
       "      <td>1</td>\n",
       "      <td>1.481197</td>\n",
       "      <td>0</td>\n",
       "      <td>0</td>\n",
       "      <td>0</td>\n",
       "      <td>0</td>\n",
       "      <td>2</td>\n",
       "      <td>...</td>\n",
       "      <td>-0.648831</td>\n",
       "      <td>-0.651960</td>\n",
       "      <td>-0.640356</td>\n",
       "      <td>-0.394515</td>\n",
       "      <td>-0.158517</td>\n",
       "      <td>-0.149403</td>\n",
       "      <td>-0.314384</td>\n",
       "      <td>-0.295614</td>\n",
       "      <td>-0.269353</td>\n",
       "      <td>1</td>\n",
       "    </tr>\n",
       "    <tr>\n",
       "      <th>29676</th>\n",
       "      <td>-0.925961</td>\n",
       "      <td>1</td>\n",
       "      <td>2</td>\n",
       "      <td>1</td>\n",
       "      <td>-0.815741</td>\n",
       "      <td>0</td>\n",
       "      <td>0</td>\n",
       "      <td>0</td>\n",
       "      <td>0</td>\n",
       "      <td>0</td>\n",
       "      <td>...</td>\n",
       "      <td>0.024083</td>\n",
       "      <td>-0.649344</td>\n",
       "      <td>0.071838</td>\n",
       "      <td>-0.394515</td>\n",
       "      <td>0.993958</td>\n",
       "      <td>-0.178111</td>\n",
       "      <td>-0.234107</td>\n",
       "      <td>2.368160</td>\n",
       "      <td>-0.204297</td>\n",
       "      <td>0</td>\n",
       "    </tr>\n",
       "    <tr>\n",
       "      <th>8856</th>\n",
       "      <td>-0.697939</td>\n",
       "      <td>2</td>\n",
       "      <td>3</td>\n",
       "      <td>1</td>\n",
       "      <td>1.809331</td>\n",
       "      <td>2</td>\n",
       "      <td>2</td>\n",
       "      <td>3</td>\n",
       "      <td>3</td>\n",
       "      <td>3</td>\n",
       "      <td>...</td>\n",
       "      <td>-0.055342</td>\n",
       "      <td>-0.027241</td>\n",
       "      <td>0.015930</td>\n",
       "      <td>-0.111248</td>\n",
       "      <td>-0.118654</td>\n",
       "      <td>-0.205540</td>\n",
       "      <td>-0.314384</td>\n",
       "      <td>-0.209386</td>\n",
       "      <td>-0.194253</td>\n",
       "      <td>1</td>\n",
       "    </tr>\n",
       "    <tr>\n",
       "      <th>21098</th>\n",
       "      <td>0.746203</td>\n",
       "      <td>1</td>\n",
       "      <td>1</td>\n",
       "      <td>2</td>\n",
       "      <td>-0.159473</td>\n",
       "      <td>1</td>\n",
       "      <td>2</td>\n",
       "      <td>0</td>\n",
       "      <td>0</td>\n",
       "      <td>2</td>\n",
       "      <td>...</td>\n",
       "      <td>-0.333412</td>\n",
       "      <td>-0.420150</td>\n",
       "      <td>-0.368873</td>\n",
       "      <td>-0.394515</td>\n",
       "      <td>-0.058859</td>\n",
       "      <td>-0.187254</td>\n",
       "      <td>-0.314384</td>\n",
       "      <td>-0.185062</td>\n",
       "      <td>-0.175478</td>\n",
       "      <td>0</td>\n",
       "    </tr>\n",
       "  </tbody>\n",
       "</table>\n",
       "<p>5 rows × 24 columns</p>\n",
       "</div>"
      ],
      "text/plain": [
       "       LIMIT_BAL  SEX  EDUCATION  MARRIAGE       AGE  PAY_1  PAY_2  PAY_3  \\\n",
       "10747   1.050233    1          3         1 -0.378229      0      0      0   \n",
       "12573  -1.229991    2          3         1  1.481197      0      0      0   \n",
       "29676  -0.925961    1          2         1 -0.815741      0      0      0   \n",
       "8856   -0.697939    2          3         1  1.809331      2      2      3   \n",
       "21098   0.746203    1          1         2 -0.159473      1      2      0   \n",
       "\n",
       "       PAY_4  PAY_5  ...  BILL_AMT4  BILL_AMT5  BILL_AMT6  PAY_AMT1  PAY_AMT2  \\\n",
       "10747      0      0  ...   0.607543   0.262893  -0.421472  0.240538 -0.009029   \n",
       "12573      0      2  ...  -0.648831  -0.651960  -0.640356 -0.394515 -0.158517   \n",
       "29676      0      0  ...   0.024083  -0.649344   0.071838 -0.394515  0.993958   \n",
       "8856       3      3  ...  -0.055342  -0.027241   0.015930 -0.111248 -0.118654   \n",
       "21098      0      2  ...  -0.333412  -0.420150  -0.368873 -0.394515 -0.058859   \n",
       "\n",
       "       PAY_AMT3  PAY_AMT4  PAY_AMT5  PAY_AMT6  default  \n",
       "10747 -0.095826 -0.129128 -0.245872 -0.175478        0  \n",
       "12573 -0.149403 -0.314384 -0.295614 -0.269353        1  \n",
       "29676 -0.178111 -0.234107  2.368160 -0.204297        0  \n",
       "8856  -0.205540 -0.314384 -0.209386 -0.194253        1  \n",
       "21098 -0.187254 -0.314384 -0.185062 -0.175478        0  \n",
       "\n",
       "[5 rows x 24 columns]"
      ]
     },
     "execution_count": 40,
     "metadata": {},
     "output_type": "execute_result"
    }
   ],
   "source": [
    "df.head()"
   ]
  },
  {
   "cell_type": "markdown",
   "id": "e2cb0369",
   "metadata": {},
   "source": [
    "# Spiliting Dataset"
   ]
  },
  {
   "cell_type": "code",
   "execution_count": 41,
   "id": "a56b1480",
   "metadata": {},
   "outputs": [],
   "source": [
    "x = df.iloc[:,:-1].values\n",
    "y = df.iloc[:,-1].values"
   ]
  },
  {
   "cell_type": "code",
   "execution_count": 42,
   "id": "2d666c9c",
   "metadata": {},
   "outputs": [],
   "source": [
    "from sklearn.model_selection import train_test_split\n",
    "x_train,x_test,y_train,y_test = train_test_split(x,y,test_size = 0.3,random_state = 1)"
   ]
  },
  {
   "cell_type": "code",
   "execution_count": 43,
   "id": "6b8be686",
   "metadata": {},
   "outputs": [
    {
     "data": {
      "text/plain": [
       "((1400, 23), (1400,))"
      ]
     },
     "execution_count": 43,
     "metadata": {},
     "output_type": "execute_result"
    }
   ],
   "source": [
    "x_train.shape ,y_train.shape"
   ]
  },
  {
   "cell_type": "code",
   "execution_count": 44,
   "id": "aaf70ad5",
   "metadata": {},
   "outputs": [
    {
     "data": {
      "text/plain": [
       "((600, 23), (600,))"
      ]
     },
     "execution_count": 44,
     "metadata": {},
     "output_type": "execute_result"
    }
   ],
   "source": [
    "x_test.shape,y_test.shape"
   ]
  },
  {
   "cell_type": "markdown",
   "id": "02226e09",
   "metadata": {},
   "source": [
    "# Logistic Regression"
   ]
  },
  {
   "cell_type": "code",
   "execution_count": 45,
   "id": "97627ab6",
   "metadata": {},
   "outputs": [
    {
     "data": {
      "text/plain": [
       "LogisticRegression(random_state=1)"
      ]
     },
     "execution_count": 45,
     "metadata": {},
     "output_type": "execute_result"
    }
   ],
   "source": [
    "from sklearn.linear_model import LogisticRegression\n",
    "logmodel = LogisticRegression(random_state=1)\n",
    "logmodel.fit(x_train,y_train)"
   ]
  },
  {
   "cell_type": "code",
   "execution_count": 46,
   "id": "093b44c6",
   "metadata": {},
   "outputs": [],
   "source": [
    "y_pred = logmodel.predict(x_test)"
   ]
  },
  {
   "cell_type": "code",
   "execution_count": 47,
   "id": "1542b6f0",
   "metadata": {},
   "outputs": [
    {
     "data": {
      "text/html": [
       "<div>\n",
       "<style scoped>\n",
       "    .dataframe tbody tr th:only-of-type {\n",
       "        vertical-align: middle;\n",
       "    }\n",
       "\n",
       "    .dataframe tbody tr th {\n",
       "        vertical-align: top;\n",
       "    }\n",
       "\n",
       "    .dataframe thead th {\n",
       "        text-align: right;\n",
       "    }\n",
       "</style>\n",
       "<table border=\"1\" class=\"dataframe\">\n",
       "  <thead>\n",
       "    <tr style=\"text-align: right;\">\n",
       "      <th></th>\n",
       "      <th>Model</th>\n",
       "      <th>Accuracy</th>\n",
       "      <th>Precision</th>\n",
       "      <th>Recall</th>\n",
       "      <th>F1 Score</th>\n",
       "      <th>ROC</th>\n",
       "    </tr>\n",
       "  </thead>\n",
       "  <tbody>\n",
       "    <tr>\n",
       "      <th>0</th>\n",
       "      <td>Logistic Regression</td>\n",
       "      <td>0.826667</td>\n",
       "      <td>0.694915</td>\n",
       "      <td>0.322835</td>\n",
       "      <td>0.44086</td>\n",
       "      <td>0.64239</td>\n",
       "    </tr>\n",
       "  </tbody>\n",
       "</table>\n",
       "</div>"
      ],
      "text/plain": [
       "                 Model  Accuracy  Precision    Recall  F1 Score      ROC\n",
       "0  Logistic Regression  0.826667   0.694915  0.322835   0.44086  0.64239"
      ]
     },
     "execution_count": 47,
     "metadata": {},
     "output_type": "execute_result"
    }
   ],
   "source": [
    "from sklearn.metrics import  accuracy_score, f1_score, precision_score, recall_score, roc_auc_score\n",
    "roc=roc_auc_score(y_test, y_pred)\n",
    "acc = accuracy_score(y_test, y_pred)\n",
    "prec = precision_score(y_test, y_pred)\n",
    "rec = recall_score(y_test, y_pred)\n",
    "f1 = f1_score(y_test, y_pred)\n",
    "\n",
    "results = pd.DataFrame([['Logistic Regression', acc,prec,rec, f1,roc]],\n",
    "               columns = ['Model', 'Accuracy', 'Precision', 'Recall', 'F1 Score','ROC'])\n",
    "results"
   ]
  },
  {
   "cell_type": "markdown",
   "id": "6df96368",
   "metadata": {},
   "source": [
    "# Stochastic Gradient Descent"
   ]
  },
  {
   "cell_type": "code",
   "execution_count": 48,
   "id": "32dbd6ae",
   "metadata": {},
   "outputs": [
    {
     "data": {
      "text/plain": [
       "SGDClassifier(loss='log', penalty='l1', random_state=1)"
      ]
     },
     "execution_count": 48,
     "metadata": {},
     "output_type": "execute_result"
    }
   ],
   "source": [
    "from sklearn.linear_model import SGDClassifier\n",
    "sgd = SGDClassifier(loss='log', penalty='l1', learning_rate='optimal',random_state=1)\n",
    "sgd.fit(x_train, y_train)"
   ]
  },
  {
   "cell_type": "code",
   "execution_count": 49,
   "id": "bec6b799",
   "metadata": {},
   "outputs": [],
   "source": [
    "y_pred = sgd.predict(x_test)"
   ]
  },
  {
   "cell_type": "code",
   "execution_count": 50,
   "id": "9b2d0f10",
   "metadata": {},
   "outputs": [
    {
     "data": {
      "text/html": [
       "<div>\n",
       "<style scoped>\n",
       "    .dataframe tbody tr th:only-of-type {\n",
       "        vertical-align: middle;\n",
       "    }\n",
       "\n",
       "    .dataframe tbody tr th {\n",
       "        vertical-align: top;\n",
       "    }\n",
       "\n",
       "    .dataframe thead th {\n",
       "        text-align: right;\n",
       "    }\n",
       "</style>\n",
       "<table border=\"1\" class=\"dataframe\">\n",
       "  <thead>\n",
       "    <tr style=\"text-align: right;\">\n",
       "      <th></th>\n",
       "      <th>Model</th>\n",
       "      <th>Accuracy</th>\n",
       "      <th>Precision</th>\n",
       "      <th>Recall</th>\n",
       "      <th>F1 Score</th>\n",
       "      <th>ROC</th>\n",
       "    </tr>\n",
       "  </thead>\n",
       "  <tbody>\n",
       "    <tr>\n",
       "      <th>0</th>\n",
       "      <td>Stochastic Gradient Descent</td>\n",
       "      <td>0.816667</td>\n",
       "      <td>0.666667</td>\n",
       "      <td>0.267717</td>\n",
       "      <td>0.382022</td>\n",
       "      <td>0.615888</td>\n",
       "    </tr>\n",
       "  </tbody>\n",
       "</table>\n",
       "</div>"
      ],
      "text/plain": [
       "                         Model  Accuracy  Precision    Recall  F1 Score  \\\n",
       "0  Stochastic Gradient Descent  0.816667   0.666667  0.267717  0.382022   \n",
       "\n",
       "        ROC  \n",
       "0  0.615888  "
      ]
     },
     "execution_count": 50,
     "metadata": {},
     "output_type": "execute_result"
    }
   ],
   "source": [
    "from sklearn.metrics import  accuracy_score, f1_score, precision_score, recall_score, roc_auc_score\n",
    "roc=roc_auc_score(y_test, y_pred)\n",
    "acc = accuracy_score(y_test, y_pred)\n",
    "prec = precision_score(y_test, y_pred)\n",
    "rec = recall_score(y_test, y_pred)\n",
    "f1 = f1_score(y_test, y_pred)\n",
    "\n",
    "model = pd.DataFrame([['Stochastic Gradient Descent', acc,prec,rec, f1,roc]],\n",
    "               columns = ['Model', 'Accuracy', 'Precision', 'Recall', 'F1 Score','ROC'])\n",
    "model"
   ]
  },
  {
   "cell_type": "markdown",
   "id": "ec705064",
   "metadata": {},
   "source": [
    "# K-Nearest Neighbour"
   ]
  },
  {
   "cell_type": "markdown",
   "id": "a2537482",
   "metadata": {},
   "source": [
    "    KNN can be used for both classification and regression predictive problems. However, it is more widely used in classification problems in the industry.\n",
    "\n",
    "    KNN focuses on easy implementation and good performance at the cost of computational time, but in our case the size of the dataset is considerably small so we can apply KNN.\n",
    "\n",
    "    We can implement a KNN model by following the below steps:\n",
    "\n",
    "    Load the data\n",
    "    Initialise the value of k\n",
    "    For getting the predicted class, iterate from 1 to total number of training data points\n",
    "    Calculate the distance between test data and each row of training data. Here we will use Euclidean distance as our distance metric since it’s the most popular method. The other metrics that can be used are Chebyshev, cosine, etc.\n",
    "    Sort the calculated distances in ascending order based on distance values\n",
    "    Get top k rows from the sorted array\n",
    "    Get the most frequent class of these rows\n",
    "    Return the predicted class\n",
    "    Let's go ahead and use the elbow method to pick a good K Value!"
   ]
  },
  {
   "cell_type": "code",
   "execution_count": 51,
   "id": "916c47c4",
   "metadata": {},
   "outputs": [],
   "source": [
    "from sklearn.neighbors import KNeighborsClassifier"
   ]
  },
  {
   "cell_type": "code",
   "execution_count": 52,
   "id": "00eaa8ac",
   "metadata": {},
   "outputs": [],
   "source": [
    "error_rate = []\n",
    "\n",
    "# it Will take some time\n",
    "for i in range(1,40):\n",
    "    \n",
    "    knn = KNeighborsClassifier(n_neighbors=i,n_jobs=-1)\n",
    "    knn.fit(x_train,y_train)\n",
    "    pred_i = knn.predict(x_test)\n",
    "    error_rate.append(np.mean(pred_i != y_test))"
   ]
  },
  {
   "cell_type": "code",
   "execution_count": 53,
   "id": "c26a2eb3",
   "metadata": {},
   "outputs": [
    {
     "data": {
      "text/plain": [
       "Text(0, 0.5, 'Error Rate')"
      ]
     },
     "execution_count": 53,
     "metadata": {},
     "output_type": "execute_result"
    },
    {
     "data": {
      "image/png": "[encoded data removed]",
      "text/plain": [
       "<Figure size 720x432 with 1 Axes>"
      ]
     },
     "metadata": {
      "needs_background": "light"
     },
     "output_type": "display_data"
    }
   ],
   "source": [
    "plt.figure(figsize=(10,6))\n",
    "plt.plot(range(1,40),error_rate,color='blue', linestyle='dashed', marker='o',\n",
    "         markerfacecolor='red', markersize=10)\n",
    "plt.title('Error Rate vs. K Value')\n",
    "plt.xlabel('K')\n",
    "plt.ylabel('Error Rate')"
   ]
  },
  {
   "cell_type": "raw",
   "id": "22491f64",
   "metadata": {},
   "source": [
    "from the plot we get that ,no 20 can gives better result for neighbors"
   ]
  },
  {
   "cell_type": "code",
   "execution_count": 54,
   "id": "68ced731",
   "metadata": {},
   "outputs": [],
   "source": [
    "from sklearn.neighbors import KNeighborsClassifier\n",
    "knn = KNeighborsClassifier(n_neighbors=20)"
   ]
  },
  {
   "cell_type": "code",
   "execution_count": 55,
   "id": "554f5f1f",
   "metadata": {},
   "outputs": [
    {
     "data": {
      "text/plain": [
       "KNeighborsClassifier(n_neighbors=20)"
      ]
     },
     "execution_count": 55,
     "metadata": {},
     "output_type": "execute_result"
    }
   ],
   "source": [
    "knn.fit(x_train,y_train)"
   ]
  },
  {
   "cell_type": "code",
   "execution_count": 56,
   "id": "48a95ad7",
   "metadata": {},
   "outputs": [],
   "source": [
    "y_pred = knn.predict(x_test)"
   ]
  },
  {
   "cell_type": "code",
   "execution_count": 57,
   "id": "f76b0dd2",
   "metadata": {},
   "outputs": [
    {
     "data": {
      "text/html": [
       "<div>\n",
       "<style scoped>\n",
       "    .dataframe tbody tr th:only-of-type {\n",
       "        vertical-align: middle;\n",
       "    }\n",
       "\n",
       "    .dataframe tbody tr th {\n",
       "        vertical-align: top;\n",
       "    }\n",
       "\n",
       "    .dataframe thead th {\n",
       "        text-align: right;\n",
       "    }\n",
       "</style>\n",
       "<table border=\"1\" class=\"dataframe\">\n",
       "  <thead>\n",
       "    <tr style=\"text-align: right;\">\n",
       "      <th></th>\n",
       "      <th>Model</th>\n",
       "      <th>Accuracy</th>\n",
       "      <th>Precision</th>\n",
       "      <th>Recall</th>\n",
       "      <th>F1 Score</th>\n",
       "      <th>ROC</th>\n",
       "    </tr>\n",
       "  </thead>\n",
       "  <tbody>\n",
       "    <tr>\n",
       "      <th>0</th>\n",
       "      <td>K-Nearest Neighbour</td>\n",
       "      <td>0.81</td>\n",
       "      <td>0.666667</td>\n",
       "      <td>0.204724</td>\n",
       "      <td>0.313253</td>\n",
       "      <td>0.58862</td>\n",
       "    </tr>\n",
       "  </tbody>\n",
       "</table>\n",
       "</div>"
      ],
      "text/plain": [
       "                 Model  Accuracy  Precision    Recall  F1 Score      ROC\n",
       "0  K-Nearest Neighbour      0.81   0.666667  0.204724  0.313253  0.58862"
      ]
     },
     "execution_count": 57,
     "metadata": {},
     "output_type": "execute_result"
    }
   ],
   "source": [
    "from sklearn.metrics import  accuracy_score, f1_score, precision_score, recall_score, roc_auc_score\n",
    "roc=roc_auc_score(y_test, y_pred)\n",
    "acc = accuracy_score(y_test, y_pred)\n",
    "prec = precision_score(y_test, y_pred)\n",
    "rec = recall_score(y_test, y_pred)\n",
    "f1 = f1_score(y_test, y_pred)\n",
    "\n",
    "res = pd.DataFrame([['K-Nearest Neighbour', acc,prec,rec, f1,roc]],\n",
    "               columns = ['Model', 'Accuracy', 'Precision', 'Recall', 'F1 Score','ROC'])\n",
    "res\n"
   ]
  },
  {
   "cell_type": "markdown",
   "id": "3763c43c",
   "metadata": {},
   "source": [
    "# Support Vector Machine"
   ]
  },
  {
   "cell_type": "markdown",
   "id": "f7e8dc62",
   "metadata": {},
   "source": [
    "SVM or Support Vector Machine is a linear model for classification and regression problems. It can solve linear and non-linear problems.The algorithm creates a line or a hyperplane which separates the data into classes using different kernel tricks like = 'linear','rbf' (gaussian).\n",
    "\n",
    "Thus SVM tries to make a decision boundary in such a way that the separation between the two classes(that street) is as wide as possib"
   ]
  },
  {
   "cell_type": "code",
   "execution_count": 58,
   "id": "c7f6e1a0",
   "metadata": {},
   "outputs": [
    {
     "data": {
      "text/plain": [
       "SVC(random_state=0)"
      ]
     },
     "execution_count": 58,
     "metadata": {},
     "output_type": "execute_result"
    }
   ],
   "source": [
    "# Fitting SVM to the Training set\n",
    "from sklearn.svm import SVC\n",
    "scv = SVC(kernel = 'rbf', random_state = 0)\n",
    "scv.fit(x_train, y_train)"
   ]
  },
  {
   "cell_type": "code",
   "execution_count": 59,
   "id": "409369d7",
   "metadata": {},
   "outputs": [],
   "source": [
    "y_pred = scv.predict(x_test)"
   ]
  },
  {
   "cell_type": "code",
   "execution_count": 60,
   "id": "d93b3d48",
   "metadata": {},
   "outputs": [],
   "source": [
    "from sklearn.metrics import confusion_matrix\n",
    "cm = confusion_matrix(y_test, y_pred)"
   ]
  },
  {
   "cell_type": "code",
   "execution_count": 61,
   "id": "daa512fc",
   "metadata": {},
   "outputs": [
    {
     "data": {
      "text/plain": [
       "array([[460,  13],\n",
       "       [103,  24]], dtype=int64)"
      ]
     },
     "execution_count": 61,
     "metadata": {},
     "output_type": "execute_result"
    }
   ],
   "source": [
    "cm"
   ]
  },
  {
   "cell_type": "code",
   "execution_count": 62,
   "id": "482bb7d5",
   "metadata": {},
   "outputs": [
    {
     "data": {
      "text/html": [
       "<div>\n",
       "<style scoped>\n",
       "    .dataframe tbody tr th:only-of-type {\n",
       "        vertical-align: middle;\n",
       "    }\n",
       "\n",
       "    .dataframe tbody tr th {\n",
       "        vertical-align: top;\n",
       "    }\n",
       "\n",
       "    .dataframe thead th {\n",
       "        text-align: right;\n",
       "    }\n",
       "</style>\n",
       "<table border=\"1\" class=\"dataframe\">\n",
       "  <thead>\n",
       "    <tr style=\"text-align: right;\">\n",
       "      <th></th>\n",
       "      <th>Model</th>\n",
       "      <th>Accuracy</th>\n",
       "      <th>Precision</th>\n",
       "      <th>Recall</th>\n",
       "      <th>F1 Score</th>\n",
       "      <th>ROC</th>\n",
       "    </tr>\n",
       "  </thead>\n",
       "  <tbody>\n",
       "    <tr>\n",
       "      <th>0</th>\n",
       "      <td>Support Vector Machine</td>\n",
       "      <td>0.806667</td>\n",
       "      <td>0.648649</td>\n",
       "      <td>0.188976</td>\n",
       "      <td>0.292683</td>\n",
       "      <td>0.580746</td>\n",
       "    </tr>\n",
       "  </tbody>\n",
       "</table>\n",
       "</div>"
      ],
      "text/plain": [
       "                    Model  Accuracy  Precision    Recall  F1 Score       ROC\n",
       "0  Support Vector Machine  0.806667   0.648649  0.188976  0.292683  0.580746"
      ]
     },
     "execution_count": 62,
     "metadata": {},
     "output_type": "execute_result"
    }
   ],
   "source": [
    "from sklearn.metrics import  accuracy_score, f1_score, precision_score, recall_score, roc_auc_score\n",
    "roc=roc_auc_score(y_test, y_pred)\n",
    "acc = accuracy_score(y_test, y_pred)\n",
    "prec = precision_score(y_test, y_pred)\n",
    "rec = recall_score(y_test, y_pred)\n",
    "f1 = f1_score(y_test, y_pred)\n",
    "\n",
    "model = pd.DataFrame([['Support Vector Machine', acc,prec,rec, f1,roc]],\n",
    "               columns = ['Model', 'Accuracy', 'Precision', 'Recall', 'F1 Score','ROC'])\n",
    "model"
   ]
  },
  {
   "cell_type": "markdown",
   "id": "29859109",
   "metadata": {},
   "source": [
    "# Gaussian Naive Bayes"
   ]
  },
  {
   "cell_type": "code",
   "execution_count": 63,
   "id": "8b7ea45d",
   "metadata": {},
   "outputs": [
    {
     "data": {
      "text/plain": [
       "GaussianNB()"
      ]
     },
     "execution_count": 63,
     "metadata": {},
     "output_type": "execute_result"
    }
   ],
   "source": [
    "from sklearn.naive_bayes import GaussianNB\n",
    "naive_bayes = GaussianNB()\n",
    "naive_bayes.fit(x_train,y_train)"
   ]
  },
  {
   "cell_type": "code",
   "execution_count": 64,
   "id": "6bef42b7",
   "metadata": {},
   "outputs": [],
   "source": [
    "y_pred =naive_bayes.predict(x_test)"
   ]
  },
  {
   "cell_type": "code",
   "execution_count": 65,
   "id": "f6b132e5",
   "metadata": {},
   "outputs": [],
   "source": [
    "from sklearn.metrics import confusion_matrix\n",
    "cm = confusion_matrix(y_test, y_pred)"
   ]
  },
  {
   "cell_type": "code",
   "execution_count": 66,
   "id": "afa79a1d",
   "metadata": {},
   "outputs": [
    {
     "data": {
      "text/plain": [
       "array([[391,  82],\n",
       "       [ 53,  74]], dtype=int64)"
      ]
     },
     "execution_count": 66,
     "metadata": {},
     "output_type": "execute_result"
    }
   ],
   "source": [
    "cm"
   ]
  },
  {
   "cell_type": "code",
   "execution_count": 67,
   "id": "6ba63c7d",
   "metadata": {},
   "outputs": [
    {
     "data": {
      "text/html": [
       "<div>\n",
       "<style scoped>\n",
       "    .dataframe tbody tr th:only-of-type {\n",
       "        vertical-align: middle;\n",
       "    }\n",
       "\n",
       "    .dataframe tbody tr th {\n",
       "        vertical-align: top;\n",
       "    }\n",
       "\n",
       "    .dataframe thead th {\n",
       "        text-align: right;\n",
       "    }\n",
       "</style>\n",
       "<table border=\"1\" class=\"dataframe\">\n",
       "  <thead>\n",
       "    <tr style=\"text-align: right;\">\n",
       "      <th></th>\n",
       "      <th>Model</th>\n",
       "      <th>Accuracy</th>\n",
       "      <th>Precision</th>\n",
       "      <th>Recall</th>\n",
       "      <th>F1 Score</th>\n",
       "      <th>ROC</th>\n",
       "    </tr>\n",
       "  </thead>\n",
       "  <tbody>\n",
       "    <tr>\n",
       "      <th>0</th>\n",
       "      <td>Gaussian Naive Bayes</td>\n",
       "      <td>0.775</td>\n",
       "      <td>0.474359</td>\n",
       "      <td>0.582677</td>\n",
       "      <td>0.522968</td>\n",
       "      <td>0.704658</td>\n",
       "    </tr>\n",
       "  </tbody>\n",
       "</table>\n",
       "</div>"
      ],
      "text/plain": [
       "                  Model  Accuracy  Precision    Recall  F1 Score       ROC\n",
       "0  Gaussian Naive Bayes     0.775   0.474359  0.582677  0.522968  0.704658"
      ]
     },
     "execution_count": 67,
     "metadata": {},
     "output_type": "execute_result"
    }
   ],
   "source": [
    "from sklearn.metrics import  accuracy_score, f1_score, precision_score, recall_score, roc_auc_score\n",
    "roc=roc_auc_score(y_test, y_pred)\n",
    "acc = accuracy_score(y_test, y_pred)\n",
    "prec = precision_score(y_test, y_pred)\n",
    "rec = recall_score(y_test, y_pred)\n",
    "f1 = f1_score(y_test, y_pred)\n",
    "\n",
    "model= pd.DataFrame([['Gaussian Naive Bayes', acc,prec,rec, f1,roc]],\n",
    "               columns = ['Model', 'Accuracy', 'Precision', 'Recall', 'F1 Score','ROC'])\n",
    "model"
   ]
  },
  {
   "cell_type": "markdown",
   "id": "8bcbe9b1",
   "metadata": {},
   "source": [
    "# Decision Tree Classification"
   ]
  },
  {
   "cell_type": "markdown",
   "id": "02355cbf",
   "metadata": {},
   "source": [
    "The idea of a decision tree is to divide the data set into smaller data sets based on the descriptive features until you reach a small enough set that contains data points that fall under one label.\n",
    "\n",
    "Advantages of Decision Trees -\n",
    "Decision trees are easy to interpret. To build a decision tree requires little data preparation from the user- there is no need to normalize data\n",
    "\n",
    "Disadvantages of Decision Trees-\n",
    "Decision trees are likely to overfit noisy data. The probability of overfitting on noise increases as a tree gets deeper."
   ]
  },
  {
   "cell_type": "code",
   "execution_count": 68,
   "id": "9e3a0a1e",
   "metadata": {},
   "outputs": [],
   "source": [
    "from sklearn.tree import DecisionTreeClassifier\n",
    "dct = DecisionTreeClassifier(criterion = 'entropy',random_state = 0)"
   ]
  },
  {
   "cell_type": "code",
   "execution_count": 69,
   "id": "fa7a63f1",
   "metadata": {},
   "outputs": [
    {
     "data": {
      "text/plain": [
       "DecisionTreeClassifier(criterion='entropy', random_state=0)"
      ]
     },
     "execution_count": 69,
     "metadata": {},
     "output_type": "execute_result"
    }
   ],
   "source": [
    "dct.fit(x_train,y_train)"
   ]
  },
  {
   "cell_type": "code",
   "execution_count": 70,
   "id": "4e5dca42",
   "metadata": {},
   "outputs": [],
   "source": [
    "y_pred = dct.predict(x_test)"
   ]
  },
  {
   "cell_type": "code",
   "execution_count": 71,
   "id": "55620a3a",
   "metadata": {},
   "outputs": [
    {
     "data": {
      "text/plain": [
       "array([[392,  81],\n",
       "       [ 82,  45]], dtype=int64)"
      ]
     },
     "execution_count": 71,
     "metadata": {},
     "output_type": "execute_result"
    }
   ],
   "source": [
    "from sklearn.metrics import confusion_matrix\n",
    "cm = confusion_matrix(y_test, y_pred)\n",
    "cm"
   ]
  },
  {
   "cell_type": "code",
   "execution_count": 72,
   "id": "8632315e",
   "metadata": {},
   "outputs": [
    {
     "data": {
      "text/html": [
       "<div>\n",
       "<style scoped>\n",
       "    .dataframe tbody tr th:only-of-type {\n",
       "        vertical-align: middle;\n",
       "    }\n",
       "\n",
       "    .dataframe tbody tr th {\n",
       "        vertical-align: top;\n",
       "    }\n",
       "\n",
       "    .dataframe thead th {\n",
       "        text-align: right;\n",
       "    }\n",
       "</style>\n",
       "<table border=\"1\" class=\"dataframe\">\n",
       "  <thead>\n",
       "    <tr style=\"text-align: right;\">\n",
       "      <th></th>\n",
       "      <th>Model</th>\n",
       "      <th>Accuracy</th>\n",
       "      <th>Precision</th>\n",
       "      <th>Recall</th>\n",
       "      <th>F1 Score</th>\n",
       "      <th>ROC</th>\n",
       "    </tr>\n",
       "  </thead>\n",
       "  <tbody>\n",
       "    <tr>\n",
       "      <th>0</th>\n",
       "      <td>Decision Tree Classifier</td>\n",
       "      <td>0.728333</td>\n",
       "      <td>0.357143</td>\n",
       "      <td>0.354331</td>\n",
       "      <td>0.355731</td>\n",
       "      <td>0.591542</td>\n",
       "    </tr>\n",
       "  </tbody>\n",
       "</table>\n",
       "</div>"
      ],
      "text/plain": [
       "                      Model  Accuracy  Precision    Recall  F1 Score       ROC\n",
       "0  Decision Tree Classifier  0.728333   0.357143  0.354331  0.355731  0.591542"
      ]
     },
     "execution_count": 72,
     "metadata": {},
     "output_type": "execute_result"
    }
   ],
   "source": [
    "from sklearn.metrics import  accuracy_score, f1_score, precision_score, recall_score, roc_auc_score\n",
    "roc=roc_auc_score(y_test, y_pred)\n",
    "acc = accuracy_score(y_test, y_pred)\n",
    "prec = precision_score(y_test, y_pred)\n",
    "rec = recall_score(y_test, y_pred)\n",
    "f1 = f1_score(y_test, y_pred)\n",
    "\n",
    "model = pd.DataFrame([['Decision Tree Classifier', acc,prec,rec, f1,roc]],\n",
    "               columns = ['Model', 'Accuracy', 'Precision', 'Recall', 'F1 Score','ROC'])\n",
    "model\n"
   ]
  },
  {
   "cell_type": "markdown",
   "id": "7564dab1",
   "metadata": {},
   "source": [
    "# Random Forest Classification"
   ]
  },
  {
   "cell_type": "markdown",
   "id": "4357939f",
   "metadata": {},
   "source": [
    "Random Forest is a supervised learning algorithm, it creates a forest and makes it somehow random. The \"forest“ it builds, is an ensemble of Decision Trees.\n",
    "\n",
    "Step1:- Pick at random K data points from the training set\n",
    "\n",
    "Step2:- Build the Decision tree associated to these K data points\n",
    "\n",
    "Step3:- Choose the Number of trees(n) you want to build and repeat STEP1 and STEP2\n",
    "\n",
    "Step4:- For a new data points make each one of your 'n' trees predict the category to which the data point belongs and assign the new data point to the category that wins the majority vote"
   ]
  },
  {
   "cell_type": "code",
   "execution_count": 73,
   "id": "88a9f59a",
   "metadata": {},
   "outputs": [
    {
     "data": {
      "text/plain": [
       "RandomForestClassifier(criterion='entropy', random_state=0)"
      ]
     },
     "execution_count": 73,
     "metadata": {},
     "output_type": "execute_result"
    }
   ],
   "source": [
    "from sklearn.ensemble import RandomForestClassifier\n",
    "rfc = RandomForestClassifier(n_estimators = 100,criterion = 'entropy',random_state = 0)\n",
    "rfc.fit(x_train,y_train)"
   ]
  },
  {
   "cell_type": "code",
   "execution_count": 74,
   "id": "7de10edb",
   "metadata": {},
   "outputs": [],
   "source": [
    "y_pred = rfc.predict(x_test)"
   ]
  },
  {
   "cell_type": "code",
   "execution_count": 75,
   "id": "04b566a5",
   "metadata": {},
   "outputs": [
    {
     "data": {
      "text/plain": [
       "array([[452,  21],\n",
       "       [ 91,  36]], dtype=int64)"
      ]
     },
     "execution_count": 75,
     "metadata": {},
     "output_type": "execute_result"
    }
   ],
   "source": [
    "from sklearn.metrics import confusion_matrix\n",
    "cm = confusion_matrix(y_test, y_pred)\n",
    "cm"
   ]
  },
  {
   "cell_type": "code",
   "execution_count": 76,
   "id": "a40df7ea",
   "metadata": {},
   "outputs": [
    {
     "data": {
      "text/html": [
       "<div>\n",
       "<style scoped>\n",
       "    .dataframe tbody tr th:only-of-type {\n",
       "        vertical-align: middle;\n",
       "    }\n",
       "\n",
       "    .dataframe tbody tr th {\n",
       "        vertical-align: top;\n",
       "    }\n",
       "\n",
       "    .dataframe thead th {\n",
       "        text-align: right;\n",
       "    }\n",
       "</style>\n",
       "<table border=\"1\" class=\"dataframe\">\n",
       "  <thead>\n",
       "    <tr style=\"text-align: right;\">\n",
       "      <th></th>\n",
       "      <th>Model</th>\n",
       "      <th>Accuracy</th>\n",
       "      <th>Precision</th>\n",
       "      <th>Recall</th>\n",
       "      <th>F1 Score</th>\n",
       "      <th>ROC</th>\n",
       "    </tr>\n",
       "  </thead>\n",
       "  <tbody>\n",
       "    <tr>\n",
       "      <th>0</th>\n",
       "      <td>Random tree Classifier</td>\n",
       "      <td>0.813333</td>\n",
       "      <td>0.631579</td>\n",
       "      <td>0.283465</td>\n",
       "      <td>0.391304</td>\n",
       "      <td>0.619534</td>\n",
       "    </tr>\n",
       "  </tbody>\n",
       "</table>\n",
       "</div>"
      ],
      "text/plain": [
       "                    Model  Accuracy  Precision    Recall  F1 Score       ROC\n",
       "0  Random tree Classifier  0.813333   0.631579  0.283465  0.391304  0.619534"
      ]
     },
     "execution_count": 76,
     "metadata": {},
     "output_type": "execute_result"
    }
   ],
   "source": [
    "from sklearn.metrics import  accuracy_score, f1_score, precision_score, recall_score, roc_auc_score\n",
    "roc=roc_auc_score(y_test, y_pred)\n",
    "acc = accuracy_score(y_test, y_pred)\n",
    "prec = precision_score(y_test, y_pred)\n",
    "rec = recall_score(y_test, y_pred)\n",
    "f1 = f1_score(y_test, y_pred)\n",
    "\n",
    "results = pd.DataFrame([['Random tree Classifier', acc,prec,rec, f1,roc]],\n",
    "               columns = ['Model', 'Accuracy', 'Precision', 'Recall', 'F1 Score','ROC'])\n",
    "\n",
    "results"
   ]
  },
  {
   "cell_type": "markdown",
   "id": "cd35c47e",
   "metadata": {},
   "source": [
    "# XGBOOST classifier\n",
    "It is Gradient Boosting Algorithm"
   ]
  },
  {
   "cell_type": "code",
   "execution_count": 77,
   "id": "93ed7fb7",
   "metadata": {},
   "outputs": [
    {
     "data": {
      "text/plain": [
       "XGBClassifier(base_score=0.5, booster='gbtree', callbacks=None,\n",
       "              colsample_bylevel=1, colsample_bynode=1, colsample_bytree=1,\n",
       "              early_stopping_rounds=None, enable_categorical=False,\n",
       "              eval_metric=None, gamma=0, gpu_id=-1, grow_policy='depthwise',\n",
       "              importance_type=None, interaction_constraints='',\n",
       "              learning_rate=0.300000012, max_bin=256, max_cat_to_onehot=4,\n",
       "              max_delta_step=0, max_depth=6, max_leaves=0, min_child_weight=1,\n",
       "              missing=nan, monotone_constraints='()', n_estimators=100,\n",
       "              n_jobs=0, num_parallel_tree=1, predictor='auto', random_state=0,\n",
       "              reg_alpha=0, reg_lambda=1, ...)"
      ]
     },
     "execution_count": 77,
     "metadata": {},
     "output_type": "execute_result"
    }
   ],
   "source": [
    "from xgboost import XGBClassifier\n",
    "xgb = XGBClassifier()\n",
    "xgb.fit(x_train, y_train)"
   ]
  },
  {
   "cell_type": "code",
   "execution_count": 78,
   "id": "8999dbbd",
   "metadata": {},
   "outputs": [],
   "source": [
    "y_pred =xgb.predict(x_test)"
   ]
  },
  {
   "cell_type": "code",
   "execution_count": 79,
   "id": "12ef5418",
   "metadata": {},
   "outputs": [],
   "source": [
    "from sklearn.metrics import confusion_matrix\n",
    "cm = confusion_matrix(y_test, y_pred)"
   ]
  },
  {
   "cell_type": "code",
   "execution_count": 80,
   "id": "daeb77b9",
   "metadata": {},
   "outputs": [
    {
     "data": {
      "text/plain": [
       "array([[438,  35],\n",
       "       [ 86,  41]], dtype=int64)"
      ]
     },
     "execution_count": 80,
     "metadata": {},
     "output_type": "execute_result"
    }
   ],
   "source": [
    "cm"
   ]
  },
  {
   "cell_type": "code",
   "execution_count": 81,
   "id": "b13b62e0",
   "metadata": {},
   "outputs": [
    {
     "data": {
      "text/html": [
       "<div>\n",
       "<style scoped>\n",
       "    .dataframe tbody tr th:only-of-type {\n",
       "        vertical-align: middle;\n",
       "    }\n",
       "\n",
       "    .dataframe tbody tr th {\n",
       "        vertical-align: top;\n",
       "    }\n",
       "\n",
       "    .dataframe thead th {\n",
       "        text-align: right;\n",
       "    }\n",
       "</style>\n",
       "<table border=\"1\" class=\"dataframe\">\n",
       "  <thead>\n",
       "    <tr style=\"text-align: right;\">\n",
       "      <th></th>\n",
       "      <th>Model</th>\n",
       "      <th>Accuracy</th>\n",
       "      <th>Precision</th>\n",
       "      <th>Recall</th>\n",
       "      <th>F1 Score</th>\n",
       "      <th>ROC</th>\n",
       "    </tr>\n",
       "  </thead>\n",
       "  <tbody>\n",
       "    <tr>\n",
       "      <th>0</th>\n",
       "      <td>XGBOOST Classifier</td>\n",
       "      <td>0.798333</td>\n",
       "      <td>0.539474</td>\n",
       "      <td>0.322835</td>\n",
       "      <td>0.403941</td>\n",
       "      <td>0.624419</td>\n",
       "    </tr>\n",
       "  </tbody>\n",
       "</table>\n",
       "</div>"
      ],
      "text/plain": [
       "                Model  Accuracy  Precision    Recall  F1 Score       ROC\n",
       "0  XGBOOST Classifier  0.798333   0.539474  0.322835  0.403941  0.624419"
      ]
     },
     "execution_count": 81,
     "metadata": {},
     "output_type": "execute_result"
    }
   ],
   "source": [
    "from sklearn.metrics import  accuracy_score, f1_score, precision_score, recall_score, roc_auc_score\n",
    "roc=roc_auc_score(y_test, y_pred)\n",
    "acc = accuracy_score(y_test, y_pred)\n",
    "prec = precision_score(y_test, y_pred)\n",
    "rec = recall_score(y_test, y_pred)\n",
    "f1 = f1_score(y_test, y_pred)\n",
    "\n",
    "results = pd.DataFrame([['XGBOOST Classifier', acc,prec,rec, f1,roc]],\n",
    "               columns = ['Model', 'Accuracy', 'Precision', 'Recall', 'F1 Score','ROC'])\n",
    "results"
   ]
  },
  {
   "cell_type": "raw",
   "id": "88396769",
   "metadata": {},
   "source": [
    "Conclusion\n",
    "\n",
    "1)Using a Logistic Regression classifier, we can predict with 77.7% accuracy, whether a customer is likely to default next month.\n",
    "\n",
    "2)Using a Stochastic Gradient Descent classifier, we can predict with 77.7% accuracy, whether a customer is likely to default next month.\n",
    "\n",
    "3)Using a K-Nearest Neighbour classifier, we can predict with 78.0% accuracy, whether a customer is likely to default next month.\n",
    "\n",
    "4)Using a Support Vector Machine classifier, we can predict with 77.7% accuracy, whether a customer is likely to default next month.\n",
    "\n",
    "5)Using a Decision Tree classifier, we can predict with 73.2% accuracy, whether a customer is likely to default next month.\n",
    "\n",
    "6)Using a Random Forest classifier, we can predict with 81.3% accuracy, whether a customer is likely to default next month.\n",
    "\n",
    "7)Using a XGBOOST classifier, we can predict with 81.5% accuracy, whether a customer is likely to default next month .\n",
    "The strongest predictors of default are the PAY_X (ie the repayment status in previous months), the LIMIT_BAL & the PAY_AMTX (amount paid in previous months).\n",
    "\n",
    "We found that using Random Forest and XGBOOST are better.\n",
    "\n",
    "Demographics:  we see that being Female, More educated, Single and between 30-40years old means a customer is more likely to make payments on time."
   ]
  },
  {
   "cell_type": "markdown",
   "id": "d82dba21",
   "metadata": {},
   "source": [
    "# Model Optimization using Grid Search and K-Fold Cross validation"
   ]
  },
  {
   "cell_type": "raw",
   "id": "c321d5ff",
   "metadata": {},
   "source": [
    "There is a better way that I know to get your parameters right, which is to use GridSearchCV. Essentially we give a parameters space and test our model on every point of this space, returning the ideal combination of parameters."
   ]
  },
  {
   "cell_type": "code",
   "execution_count": 82,
   "id": "31e17549",
   "metadata": {},
   "outputs": [],
   "source": [
    "from sklearn.model_selection import GridSearchCV , cross_val_score\n",
    "from sklearn.metrics import  accuracy_score, f1_score, precision_score, recall_score, roc_auc_score,roc_curve,auc"
   ]
  },
  {
   "cell_type": "markdown",
   "id": "15d71556",
   "metadata": {},
   "source": [
    "# 1)Grid Search on Logistic Regression Model"
   ]
  },
  {
   "cell_type": "code",
   "execution_count": 83,
   "id": "0888c944",
   "metadata": {},
   "outputs": [
    {
     "name": "stderr",
     "output_type": "stream",
     "text": [
      "C:\\Users\\amrit\\anaconda3\\lib\\site-packages\\sklearn\\model_selection\\_validation.py:372: FitFailedWarning: \n",
      "100 fits failed out of a total of 200.\n",
      "The score on these train-test partitions for these parameters will be set to nan.\n",
      "If these failures are not expected, you can try to debug them by setting error_score='raise'.\n",
      "\n",
      "Below are more details about the failures:\n",
      "--------------------------------------------------------------------------------\n",
      "100 fits failed with the following error:\n",
      "Traceback (most recent call last):\n",
      "  File \"C:\\Users\\amrit\\anaconda3\\lib\\site-packages\\sklearn\\model_selection\\_validation.py\", line 680, in _fit_and_score\n",
      "    estimator.fit(X_train, y_train, **fit_params)\n",
      "  File \"C:\\Users\\amrit\\anaconda3\\lib\\site-packages\\sklearn\\linear_model\\_logistic.py\", line 1461, in fit\n",
      "    solver = _check_solver(self.solver, self.penalty, self.dual)\n",
      "  File \"C:\\Users\\amrit\\anaconda3\\lib\\site-packages\\sklearn\\linear_model\\_logistic.py\", line 447, in _check_solver\n",
      "    raise ValueError(\n",
      "ValueError: Solver lbfgs supports only 'l2' or 'none' penalties, got l1 penalty.\n",
      "\n",
      "  warnings.warn(some_fits_failed_message, FitFailedWarning)\n",
      "C:\\Users\\amrit\\anaconda3\\lib\\site-packages\\sklearn\\model_selection\\_search.py:969: UserWarning: One or more of the test scores are non-finite: [       nan 0.77928571        nan 0.79285714        nan 0.81\n",
      "        nan 0.785             nan 0.81714286        nan 0.76428571\n",
      "        nan 0.81928571        nan 0.75642857        nan 0.82\n",
      "        nan 0.75428571]\n",
      "  warnings.warn(\n"
     ]
    }
   ],
   "source": [
    "logmodel_params = {'C': [0.001, 0.01, 0.1, 1, 10], 'class_weight': [None, 'balanced'], 'penalty': ['l1', 'l2']}\n",
    "grid_search_log = GridSearchCV(estimator=logmodel,param_grid=logmodel_params,scoring='accuracy',cv=10,n_jobs=-1)\n",
    "grid_search_log = grid_search_log.fit(x_train,y_train)"
   ]
  },
  {
   "cell_type": "code",
   "execution_count": 84,
   "id": "93c28ca0",
   "metadata": {},
   "outputs": [],
   "source": [
    "best_accuracy = grid_search_log.best_score_"
   ]
  },
  {
   "cell_type": "code",
   "execution_count": 85,
   "id": "c4a36056",
   "metadata": {},
   "outputs": [
    {
     "name": "stdout",
     "output_type": "stream",
     "text": [
      "Accuracy on Cross Validation set : 0.82\n"
     ]
    }
   ],
   "source": [
    "print('Accuracy on Cross Validation set :',best_accuracy)"
   ]
  },
  {
   "cell_type": "code",
   "execution_count": 86,
   "id": "152f820f",
   "metadata": {},
   "outputs": [
    {
     "data": {
      "text/plain": [
       "{'C': 10, 'class_weight': None, 'penalty': 'l2'}"
      ]
     },
     "execution_count": 86,
     "metadata": {},
     "output_type": "execute_result"
    }
   ],
   "source": [
    "best_parameters = grid_search_log.best_params_\n",
    "best_parameters"
   ]
  },
  {
   "cell_type": "code",
   "execution_count": 87,
   "id": "7840a5de",
   "metadata": {},
   "outputs": [],
   "source": [
    "y_pred_log = grid_search_log.predict(x_test)"
   ]
  },
  {
   "cell_type": "code",
   "execution_count": 88,
   "id": "4075b05e",
   "metadata": {},
   "outputs": [],
   "source": [
    "roc=roc_auc_score(y_test, y_pred_log)\n",
    "acc = accuracy_score(y_test, y_pred_log)\n",
    "prec = precision_score(y_test, y_pred_log)\n",
    "rec = recall_score(y_test, y_pred_log)\n",
    "f1 = f1_score(y_test, y_pred_log)"
   ]
  },
  {
   "cell_type": "code",
   "execution_count": 89,
   "id": "ffa59fba",
   "metadata": {},
   "outputs": [
    {
     "data": {
      "text/html": [
       "<div>\n",
       "<style scoped>\n",
       "    .dataframe tbody tr th:only-of-type {\n",
       "        vertical-align: middle;\n",
       "    }\n",
       "\n",
       "    .dataframe tbody tr th {\n",
       "        vertical-align: top;\n",
       "    }\n",
       "\n",
       "    .dataframe thead th {\n",
       "        text-align: right;\n",
       "    }\n",
       "</style>\n",
       "<table border=\"1\" class=\"dataframe\">\n",
       "  <thead>\n",
       "    <tr style=\"text-align: right;\">\n",
       "      <th></th>\n",
       "      <th>Model</th>\n",
       "      <th>Accuracy</th>\n",
       "      <th>Precision</th>\n",
       "      <th>Recall</th>\n",
       "      <th>F1 Score</th>\n",
       "      <th>ROC</th>\n",
       "    </tr>\n",
       "  </thead>\n",
       "  <tbody>\n",
       "    <tr>\n",
       "      <th>0</th>\n",
       "      <td>Logistic Regression Tuned</td>\n",
       "      <td>0.825</td>\n",
       "      <td>0.683333</td>\n",
       "      <td>0.322835</td>\n",
       "      <td>0.438503</td>\n",
       "      <td>0.641333</td>\n",
       "    </tr>\n",
       "  </tbody>\n",
       "</table>\n",
       "</div>"
      ],
      "text/plain": [
       "                       Model  Accuracy  Precision    Recall  F1 Score  \\\n",
       "0  Logistic Regression Tuned     0.825   0.683333  0.322835  0.438503   \n",
       "\n",
       "        ROC  \n",
       "0  0.641333  "
      ]
     },
     "execution_count": 89,
     "metadata": {},
     "output_type": "execute_result"
    }
   ],
   "source": [
    "model_results =  pd.DataFrame([['Logistic Regression Tuned', acc,prec,rec, f1,roc]],\n",
    "               columns = ['Model', 'Accuracy', 'Precision', 'Recall', 'F1 Score','ROC'])\n",
    "model_results"
   ]
  },
  {
   "cell_type": "markdown",
   "id": "ae9aa576",
   "metadata": {},
   "source": [
    "# 2)Grid Search on Stochastic Gradient Descent"
   ]
  },
  {
   "cell_type": "code",
   "execution_count": 90,
   "id": "78cbf49b",
   "metadata": {},
   "outputs": [],
   "source": [
    "sgd_params = {'alpha': [0.0001, 0.001, 0.01, 0.1, 1.0, 5.0], 'class_weight': [None, 'balanced']}\n",
    "grid_search_sgd = GridSearchCV(estimator=sgd,param_grid=sgd_params,scoring='accuracy',cv=5,n_jobs=-1)\n",
    "grid_search_sgd = grid_search_sgd.fit(x_train,y_train)"
   ]
  },
  {
   "cell_type": "code",
   "execution_count": 91,
   "id": "adfec3c9",
   "metadata": {},
   "outputs": [
    {
     "name": "stdout",
     "output_type": "stream",
     "text": [
      "Accuracy on Cross Validation set : 0.8150000000000001\n"
     ]
    }
   ],
   "source": [
    "best_accuracy_1 = grid_search_sgd.best_score_\n",
    "print('Accuracy on Cross Validation set :',best_accuracy_1)"
   ]
  },
  {
   "cell_type": "code",
   "execution_count": 92,
   "id": "dcec62ee",
   "metadata": {},
   "outputs": [
    {
     "data": {
      "text/plain": [
       "{'alpha': 0.01, 'class_weight': None}"
      ]
     },
     "execution_count": 92,
     "metadata": {},
     "output_type": "execute_result"
    }
   ],
   "source": [
    "best_parameters_2 = grid_search_sgd.best_params_\n",
    "best_parameters_2"
   ]
  },
  {
   "cell_type": "code",
   "execution_count": 93,
   "id": "675d3b8e",
   "metadata": {},
   "outputs": [],
   "source": [
    "y_pred_sgd = grid_search_sgd.predict(x_test)"
   ]
  },
  {
   "cell_type": "code",
   "execution_count": 94,
   "id": "9df364e4",
   "metadata": {},
   "outputs": [],
   "source": [
    "sgd_prob = grid_search_sgd.predict_proba(x_test)"
   ]
  },
  {
   "cell_type": "code",
   "execution_count": 95,
   "id": "e9e5c523",
   "metadata": {},
   "outputs": [
    {
     "name": "stderr",
     "output_type": "stream",
     "text": [
      "C:\\Users\\amrit\\AppData\\Local\\Temp\\ipykernel_11140\\1402161187.py:8: FutureWarning: The frame.append method is deprecated and will be removed from pandas in a future version. Use pandas.concat instead.\n",
      "  model_results = model_results.append(model, ignore_index = True)\n"
     ]
    },
    {
     "data": {
      "text/html": [
       "<div>\n",
       "<style scoped>\n",
       "    .dataframe tbody tr th:only-of-type {\n",
       "        vertical-align: middle;\n",
       "    }\n",
       "\n",
       "    .dataframe tbody tr th {\n",
       "        vertical-align: top;\n",
       "    }\n",
       "\n",
       "    .dataframe thead th {\n",
       "        text-align: right;\n",
       "    }\n",
       "</style>\n",
       "<table border=\"1\" class=\"dataframe\">\n",
       "  <thead>\n",
       "    <tr style=\"text-align: right;\">\n",
       "      <th></th>\n",
       "      <th>Model</th>\n",
       "      <th>Accuracy</th>\n",
       "      <th>Precision</th>\n",
       "      <th>Recall</th>\n",
       "      <th>F1 Score</th>\n",
       "      <th>ROC</th>\n",
       "    </tr>\n",
       "  </thead>\n",
       "  <tbody>\n",
       "    <tr>\n",
       "      <th>0</th>\n",
       "      <td>Logistic Regression Tuned</td>\n",
       "      <td>0.825</td>\n",
       "      <td>0.683333</td>\n",
       "      <td>0.322835</td>\n",
       "      <td>0.438503</td>\n",
       "      <td>0.641333</td>\n",
       "    </tr>\n",
       "    <tr>\n",
       "      <th>1</th>\n",
       "      <td>Stochastic Gradient Descent Tuned</td>\n",
       "      <td>0.815</td>\n",
       "      <td>0.637931</td>\n",
       "      <td>0.291339</td>\n",
       "      <td>0.400000</td>\n",
       "      <td>0.623471</td>\n",
       "    </tr>\n",
       "  </tbody>\n",
       "</table>\n",
       "</div>"
      ],
      "text/plain": [
       "                               Model  Accuracy  Precision    Recall  F1 Score  \\\n",
       "0          Logistic Regression Tuned     0.825   0.683333  0.322835  0.438503   \n",
       "1  Stochastic Gradient Descent Tuned     0.815   0.637931  0.291339  0.400000   \n",
       "\n",
       "        ROC  \n",
       "0  0.641333  \n",
       "1  0.623471  "
      ]
     },
     "execution_count": 95,
     "metadata": {},
     "output_type": "execute_result"
    }
   ],
   "source": [
    "roc=roc_auc_score(y_test, y_pred_sgd)\n",
    "acc = accuracy_score(y_test, y_pred_sgd)\n",
    "prec = precision_score(y_test, y_pred_sgd)\n",
    "rec = recall_score(y_test, y_pred_sgd)\n",
    "f1 = f1_score(y_test, y_pred_sgd)\n",
    "model =  pd.DataFrame([['Stochastic Gradient Descent Tuned', acc,prec,rec, f1,roc]],\n",
    "               columns = ['Model', 'Accuracy', 'Precision', 'Recall', 'F1 Score','ROC'])\n",
    "model_results = model_results.append(model, ignore_index = True)\n",
    "model_results"
   ]
  },
  {
   "cell_type": "code",
   "execution_count": 96,
   "id": "90b1dd10",
   "metadata": {},
   "outputs": [
    {
     "data": {
      "text/plain": [
       "<AxesSubplot:>"
      ]
     },
     "execution_count": 96,
     "metadata": {},
     "output_type": "execute_result"
    },
    {
     "data": {
      "image/png": "[encoded data removed]",
      "text/plain": [
       "<Figure size 432x288 with 2 Axes>"
      ]
     },
     "metadata": {
      "needs_background": "light"
     },
     "output_type": "display_data"
    }
   ],
   "source": [
    "from sklearn.metrics import confusion_matrix\n",
    "cm = confusion_matrix(y_test, y_pred_sgd)\n",
    "sns.heatmap(cm,annot=True)"
   ]
  },
  {
   "cell_type": "markdown",
   "id": "349bc38c",
   "metadata": {},
   "source": [
    "# 3)Grid Search on SVM model "
   ]
  },
  {
   "cell_type": "code",
   "execution_count": 97,
   "id": "762b96fb",
   "metadata": {},
   "outputs": [],
   "source": [
    "scv_params = [{'C':[0.001,0.01,0.1,1,10,1000],'kernel':['linear']},{'C':[0.001,0.01,0.1,1,10,1000],'kernel':['rbf'],'gamma':[0.5,0.1,0.01,0.0001]}]\n",
    "grid_search_1 = GridSearchCV(estimator=scv,param_grid=scv_params,scoring='accuracy',cv=5,n_jobs=-1)\n",
    "grid_search_1 = grid_search_1.fit(x_train,y_train)"
   ]
  },
  {
   "cell_type": "code",
   "execution_count": 98,
   "id": "c84a23e2",
   "metadata": {},
   "outputs": [
    {
     "name": "stdout",
     "output_type": "stream",
     "text": [
      "Accuracy on Cross Validation set : 0.8114285714285716\n"
     ]
    }
   ],
   "source": [
    "best_accuracy_1 = grid_search_1.best_score_\n",
    "print('Accuracy on Cross Validation set :',best_accuracy_1)"
   ]
  },
  {
   "cell_type": "code",
   "execution_count": 99,
   "id": "3773bfb4",
   "metadata": {},
   "outputs": [
    {
     "data": {
      "text/plain": [
       "{'C': 0.01, 'kernel': 'linear'}"
      ]
     },
     "execution_count": 99,
     "metadata": {},
     "output_type": "execute_result"
    }
   ],
   "source": [
    "best_parameters = grid_search_1.best_params_\n",
    "best_parameters"
   ]
  },
  {
   "cell_type": "code",
   "execution_count": 100,
   "id": "2b4309fe",
   "metadata": {},
   "outputs": [],
   "source": [
    "y_pred_svc =grid_search_1.predict(x_test)"
   ]
  },
  {
   "cell_type": "code",
   "execution_count": 101,
   "id": "1397085b",
   "metadata": {},
   "outputs": [
    {
     "name": "stderr",
     "output_type": "stream",
     "text": [
      "C:\\Users\\amrit\\AppData\\Local\\Temp\\ipykernel_11140\\3883899968.py:8: FutureWarning: The frame.append method is deprecated and will be removed from pandas in a future version. Use pandas.concat instead.\n",
      "  model_results = model_results.append(model, ignore_index = True)\n"
     ]
    },
    {
     "data": {
      "text/html": [
       "<div>\n",
       "<style scoped>\n",
       "    .dataframe tbody tr th:only-of-type {\n",
       "        vertical-align: middle;\n",
       "    }\n",
       "\n",
       "    .dataframe tbody tr th {\n",
       "        vertical-align: top;\n",
       "    }\n",
       "\n",
       "    .dataframe thead th {\n",
       "        text-align: right;\n",
       "    }\n",
       "</style>\n",
       "<table border=\"1\" class=\"dataframe\">\n",
       "  <thead>\n",
       "    <tr style=\"text-align: right;\">\n",
       "      <th></th>\n",
       "      <th>Model</th>\n",
       "      <th>Accuracy</th>\n",
       "      <th>Precision</th>\n",
       "      <th>Recall</th>\n",
       "      <th>F1 Score</th>\n",
       "      <th>ROC</th>\n",
       "    </tr>\n",
       "  </thead>\n",
       "  <tbody>\n",
       "    <tr>\n",
       "      <th>0</th>\n",
       "      <td>Logistic Regression Tuned</td>\n",
       "      <td>0.825000</td>\n",
       "      <td>0.683333</td>\n",
       "      <td>0.322835</td>\n",
       "      <td>0.438503</td>\n",
       "      <td>0.641333</td>\n",
       "    </tr>\n",
       "    <tr>\n",
       "      <th>1</th>\n",
       "      <td>Stochastic Gradient Descent Tuned</td>\n",
       "      <td>0.815000</td>\n",
       "      <td>0.637931</td>\n",
       "      <td>0.291339</td>\n",
       "      <td>0.400000</td>\n",
       "      <td>0.623471</td>\n",
       "    </tr>\n",
       "    <tr>\n",
       "      <th>2</th>\n",
       "      <td>SVC MODEL TUNED</td>\n",
       "      <td>0.808333</td>\n",
       "      <td>0.642857</td>\n",
       "      <td>0.212598</td>\n",
       "      <td>0.319527</td>\n",
       "      <td>0.590443</td>\n",
       "    </tr>\n",
       "  </tbody>\n",
       "</table>\n",
       "</div>"
      ],
      "text/plain": [
       "                               Model  Accuracy  Precision    Recall  F1 Score  \\\n",
       "0          Logistic Regression Tuned  0.825000   0.683333  0.322835  0.438503   \n",
       "1  Stochastic Gradient Descent Tuned  0.815000   0.637931  0.291339  0.400000   \n",
       "2                    SVC MODEL TUNED  0.808333   0.642857  0.212598  0.319527   \n",
       "\n",
       "        ROC  \n",
       "0  0.641333  \n",
       "1  0.623471  \n",
       "2  0.590443  "
      ]
     },
     "execution_count": 101,
     "metadata": {},
     "output_type": "execute_result"
    }
   ],
   "source": [
    "roc=roc_auc_score(y_test, y_pred_svc)\n",
    "acc = accuracy_score(y_test, y_pred_svc)\n",
    "prec = precision_score(y_test, y_pred_svc)\n",
    "rec = recall_score(y_test, y_pred_svc)\n",
    "f1 = f1_score(y_test, y_pred_svc)\n",
    "model =  pd.DataFrame([['SVC MODEL TUNED', acc,prec,rec, f1,roc]],\n",
    "               columns = ['Model', 'Accuracy', 'Precision', 'Recall', 'F1 Score','ROC'])\n",
    "model_results = model_results.append(model, ignore_index = True)\n",
    "model_results"
   ]
  },
  {
   "cell_type": "markdown",
   "id": "317a6a82",
   "metadata": {},
   "source": [
    "# 4)Grid Search on KNN Classifier"
   ]
  },
  {
   "cell_type": "raw",
   "id": "03b0b51e",
   "metadata": {},
   "source": [
    "We will be using the optimsed-for-performance implemented function of KNN provided by the scikit-learn package. We will also loop over k=1 to 30 and observe the recall in all these cases to find the best suitable value of K for our problem."
   ]
  },
  {
   "cell_type": "code",
   "execution_count": 102,
   "id": "354aef54",
   "metadata": {},
   "outputs": [],
   "source": [
    "k_range = list(range(1, 30))\n",
    "leaf_size = list(range(1,30))\n",
    "weight_options = ['uniform', 'distance']\n",
    "knn_param = {'n_neighbors': k_range, 'leaf_size': leaf_size, 'weights': weight_options}"
   ]
  },
  {
   "cell_type": "code",
   "execution_count": 103,
   "id": "c6ca5afa",
   "metadata": {},
   "outputs": [],
   "source": [
    "grid_search = GridSearchCV(estimator = knn,param_grid = knn_param,scoring='accuracy',cv=5,n_jobs=-1)\n",
    "grid_search = grid_search.fit(x_train,y_train)"
   ]
  },
  {
   "cell_type": "code",
   "execution_count": 104,
   "id": "546a356b",
   "metadata": {},
   "outputs": [
    {
     "name": "stdout",
     "output_type": "stream",
     "text": [
      "Accuracy on Cross Validation set : 0.8107142857142857\n"
     ]
    }
   ],
   "source": [
    "best_accuracy_1 = grid_search.best_score_\n",
    "print('Accuracy on Cross Validation set :',best_accuracy_1)"
   ]
  },
  {
   "cell_type": "code",
   "execution_count": 105,
   "id": "bc49e2c7",
   "metadata": {},
   "outputs": [
    {
     "data": {
      "text/plain": [
       "{'leaf_size': 1, 'n_neighbors': 24, 'weights': 'uniform'}"
      ]
     },
     "execution_count": 105,
     "metadata": {},
     "output_type": "execute_result"
    }
   ],
   "source": [
    "best_parameters = grid_search.best_params_\n",
    "best_parameters"
   ]
  },
  {
   "cell_type": "code",
   "execution_count": 106,
   "id": "3b9dfd65",
   "metadata": {},
   "outputs": [],
   "source": [
    "y_pred_KNN = grid_search.predict(x_test)"
   ]
  },
  {
   "cell_type": "code",
   "execution_count": 107,
   "id": "0b0f54c6",
   "metadata": {},
   "outputs": [
    {
     "name": "stderr",
     "output_type": "stream",
     "text": [
      "C:\\Users\\amrit\\AppData\\Local\\Temp\\ipykernel_11140\\600114077.py:8: FutureWarning: The frame.append method is deprecated and will be removed from pandas in a future version. Use pandas.concat instead.\n",
      "  model_results = model_results.append(model, ignore_index = True)\n"
     ]
    },
    {
     "data": {
      "text/html": [
       "<div>\n",
       "<style scoped>\n",
       "    .dataframe tbody tr th:only-of-type {\n",
       "        vertical-align: middle;\n",
       "    }\n",
       "\n",
       "    .dataframe tbody tr th {\n",
       "        vertical-align: top;\n",
       "    }\n",
       "\n",
       "    .dataframe thead th {\n",
       "        text-align: right;\n",
       "    }\n",
       "</style>\n",
       "<table border=\"1\" class=\"dataframe\">\n",
       "  <thead>\n",
       "    <tr style=\"text-align: right;\">\n",
       "      <th></th>\n",
       "      <th>Model</th>\n",
       "      <th>Accuracy</th>\n",
       "      <th>Precision</th>\n",
       "      <th>Recall</th>\n",
       "      <th>F1 Score</th>\n",
       "      <th>ROC</th>\n",
       "    </tr>\n",
       "  </thead>\n",
       "  <tbody>\n",
       "    <tr>\n",
       "      <th>0</th>\n",
       "      <td>Logistic Regression Tuned</td>\n",
       "      <td>0.825000</td>\n",
       "      <td>0.683333</td>\n",
       "      <td>0.322835</td>\n",
       "      <td>0.438503</td>\n",
       "      <td>0.641333</td>\n",
       "    </tr>\n",
       "    <tr>\n",
       "      <th>1</th>\n",
       "      <td>Stochastic Gradient Descent Tuned</td>\n",
       "      <td>0.815000</td>\n",
       "      <td>0.637931</td>\n",
       "      <td>0.291339</td>\n",
       "      <td>0.400000</td>\n",
       "      <td>0.623471</td>\n",
       "    </tr>\n",
       "    <tr>\n",
       "      <th>2</th>\n",
       "      <td>SVC MODEL TUNED</td>\n",
       "      <td>0.808333</td>\n",
       "      <td>0.642857</td>\n",
       "      <td>0.212598</td>\n",
       "      <td>0.319527</td>\n",
       "      <td>0.590443</td>\n",
       "    </tr>\n",
       "    <tr>\n",
       "      <th>3</th>\n",
       "      <td>KNN Model Tuned</td>\n",
       "      <td>0.803333</td>\n",
       "      <td>0.628571</td>\n",
       "      <td>0.173228</td>\n",
       "      <td>0.271605</td>\n",
       "      <td>0.572872</td>\n",
       "    </tr>\n",
       "  </tbody>\n",
       "</table>\n",
       "</div>"
      ],
      "text/plain": [
       "                               Model  Accuracy  Precision    Recall  F1 Score  \\\n",
       "0          Logistic Regression Tuned  0.825000   0.683333  0.322835  0.438503   \n",
       "1  Stochastic Gradient Descent Tuned  0.815000   0.637931  0.291339  0.400000   \n",
       "2                    SVC MODEL TUNED  0.808333   0.642857  0.212598  0.319527   \n",
       "3                    KNN Model Tuned  0.803333   0.628571  0.173228  0.271605   \n",
       "\n",
       "        ROC  \n",
       "0  0.641333  \n",
       "1  0.623471  \n",
       "2  0.590443  \n",
       "3  0.572872  "
      ]
     },
     "execution_count": 107,
     "metadata": {},
     "output_type": "execute_result"
    }
   ],
   "source": [
    "roc=roc_auc_score(y_test, y_pred_KNN)\n",
    "acc = accuracy_score(y_test, y_pred_KNN)\n",
    "prec = precision_score(y_test, y_pred_KNN)\n",
    "rec = recall_score(y_test, y_pred_KNN)\n",
    "f1 = f1_score(y_test, y_pred_KNN)\n",
    "model =  pd.DataFrame([['KNN Model Tuned', acc,prec,rec, f1,roc]],\n",
    "               columns = ['Model', 'Accuracy', 'Precision', 'Recall', 'F1 Score','ROC'])\n",
    "model_results = model_results.append(model, ignore_index = True)\n",
    "model_results"
   ]
  },
  {
   "cell_type": "markdown",
   "id": "cb3baba6",
   "metadata": {},
   "source": [
    "# 5)Grid Search on Decision Tree"
   ]
  },
  {
   "cell_type": "code",
   "execution_count": 108,
   "id": "150823e1",
   "metadata": {},
   "outputs": [],
   "source": [
    "parameters = {'max_depth':[2,4,6,8,10],'min_samples_leaf':[2,4,6,8,10], 'min_samples_split':[2,4,6,8,10]}\n",
    "grid_search_dt = GridSearchCV(estimator=dct,param_grid=parameters,scoring = 'accuracy',cv=5,n_jobs=-1)\n",
    "grid_search_dt = grid_search_dt.fit(x_train,y_train)"
   ]
  },
  {
   "cell_type": "code",
   "execution_count": 109,
   "id": "25a42767",
   "metadata": {},
   "outputs": [],
   "source": [
    "best_accuracy_1 = grid_search_dt.best_score_"
   ]
  },
  {
   "cell_type": "code",
   "execution_count": 110,
   "id": "c42fa874",
   "metadata": {},
   "outputs": [
    {
     "name": "stdout",
     "output_type": "stream",
     "text": [
      "Accuracy on Cross Validation set : 0.8242857142857142\n"
     ]
    }
   ],
   "source": [
    "print('Accuracy on Cross Validation set :',best_accuracy_1)"
   ]
  },
  {
   "cell_type": "code",
   "execution_count": 111,
   "id": "de69d2b9",
   "metadata": {},
   "outputs": [
    {
     "data": {
      "text/plain": [
       "{'max_depth': 2, 'min_samples_leaf': 2, 'min_samples_split': 2}"
      ]
     },
     "execution_count": 111,
     "metadata": {},
     "output_type": "execute_result"
    }
   ],
   "source": [
    "best_parameters_2 = grid_search_dt.best_params_\n",
    "best_parameters_2"
   ]
  },
  {
   "cell_type": "code",
   "execution_count": 112,
   "id": "e6c74727",
   "metadata": {},
   "outputs": [],
   "source": [
    "y_pred_dct = grid_search_dt.predict(x_test)"
   ]
  },
  {
   "cell_type": "code",
   "execution_count": 113,
   "id": "c0d73333",
   "metadata": {},
   "outputs": [
    {
     "name": "stderr",
     "output_type": "stream",
     "text": [
      "C:\\Users\\amrit\\AppData\\Local\\Temp\\ipykernel_11140\\2020115208.py:8: FutureWarning: The frame.append method is deprecated and will be removed from pandas in a future version. Use pandas.concat instead.\n",
      "  model_results = model_results.append(model, ignore_index = True)\n"
     ]
    },
    {
     "data": {
      "text/html": [
       "<div>\n",
       "<style scoped>\n",
       "    .dataframe tbody tr th:only-of-type {\n",
       "        vertical-align: middle;\n",
       "    }\n",
       "\n",
       "    .dataframe tbody tr th {\n",
       "        vertical-align: top;\n",
       "    }\n",
       "\n",
       "    .dataframe thead th {\n",
       "        text-align: right;\n",
       "    }\n",
       "</style>\n",
       "<table border=\"1\" class=\"dataframe\">\n",
       "  <thead>\n",
       "    <tr style=\"text-align: right;\">\n",
       "      <th></th>\n",
       "      <th>Model</th>\n",
       "      <th>Accuracy</th>\n",
       "      <th>Precision</th>\n",
       "      <th>Recall</th>\n",
       "      <th>F1 Score</th>\n",
       "      <th>ROC</th>\n",
       "    </tr>\n",
       "  </thead>\n",
       "  <tbody>\n",
       "    <tr>\n",
       "      <th>0</th>\n",
       "      <td>Logistic Regression Tuned</td>\n",
       "      <td>0.825000</td>\n",
       "      <td>0.683333</td>\n",
       "      <td>0.322835</td>\n",
       "      <td>0.438503</td>\n",
       "      <td>0.641333</td>\n",
       "    </tr>\n",
       "    <tr>\n",
       "      <th>1</th>\n",
       "      <td>Stochastic Gradient Descent Tuned</td>\n",
       "      <td>0.815000</td>\n",
       "      <td>0.637931</td>\n",
       "      <td>0.291339</td>\n",
       "      <td>0.400000</td>\n",
       "      <td>0.623471</td>\n",
       "    </tr>\n",
       "    <tr>\n",
       "      <th>2</th>\n",
       "      <td>SVC MODEL TUNED</td>\n",
       "      <td>0.808333</td>\n",
       "      <td>0.642857</td>\n",
       "      <td>0.212598</td>\n",
       "      <td>0.319527</td>\n",
       "      <td>0.590443</td>\n",
       "    </tr>\n",
       "    <tr>\n",
       "      <th>3</th>\n",
       "      <td>KNN Model Tuned</td>\n",
       "      <td>0.803333</td>\n",
       "      <td>0.628571</td>\n",
       "      <td>0.173228</td>\n",
       "      <td>0.271605</td>\n",
       "      <td>0.572872</td>\n",
       "    </tr>\n",
       "    <tr>\n",
       "      <th>4</th>\n",
       "      <td>Decision Tree Tuned</td>\n",
       "      <td>0.828333</td>\n",
       "      <td>0.714286</td>\n",
       "      <td>0.314961</td>\n",
       "      <td>0.437158</td>\n",
       "      <td>0.640567</td>\n",
       "    </tr>\n",
       "  </tbody>\n",
       "</table>\n",
       "</div>"
      ],
      "text/plain": [
       "                               Model  Accuracy  Precision    Recall  F1 Score  \\\n",
       "0          Logistic Regression Tuned  0.825000   0.683333  0.322835  0.438503   \n",
       "1  Stochastic Gradient Descent Tuned  0.815000   0.637931  0.291339  0.400000   \n",
       "2                    SVC MODEL TUNED  0.808333   0.642857  0.212598  0.319527   \n",
       "3                    KNN Model Tuned  0.803333   0.628571  0.173228  0.271605   \n",
       "4                Decision Tree Tuned  0.828333   0.714286  0.314961  0.437158   \n",
       "\n",
       "        ROC  \n",
       "0  0.641333  \n",
       "1  0.623471  \n",
       "2  0.590443  \n",
       "3  0.572872  \n",
       "4  0.640567  "
      ]
     },
     "execution_count": 113,
     "metadata": {},
     "output_type": "execute_result"
    }
   ],
   "source": [
    "roc=roc_auc_score(y_test, y_pred_dct)\n",
    "acc = accuracy_score(y_test, y_pred_dct)\n",
    "prec = precision_score(y_test, y_pred_dct)\n",
    "rec = recall_score(y_test, y_pred_dct)\n",
    "f1 = f1_score(y_test, y_pred_dct)\n",
    "model =  pd.DataFrame([['Decision Tree Tuned', acc,prec,rec, f1,roc]],\n",
    "               columns = ['Model', 'Accuracy', 'Precision', 'Recall', 'F1 Score','ROC'])\n",
    "model_results = model_results.append(model, ignore_index = True)\n",
    "model_results"
   ]
  },
  {
   "cell_type": "markdown",
   "id": "02770b23",
   "metadata": {},
   "source": [
    "# 6)Grid Search on Random Forest Classifier "
   ]
  },
  {
   "cell_type": "code",
   "execution_count": 114,
   "id": "3bdc2da6",
   "metadata": {},
   "outputs": [],
   "source": [
    "param_grid_rf = {'n_estimators': [200, 400, 600, 1000], # It is going to be a long search\n",
    "              'criterion': ['entropy', 'gini'],\n",
    "              'class_weight' : ['balanced',None]}\n",
    "grid_search_rf = GridSearchCV(estimator=rfc,param_grid=param_grid_rf,scoring='accuracy',cv=5,n_jobs=-1)\n",
    "grid_search_rf = grid_search_rf.fit(x_train,y_train)"
   ]
  },
  {
   "cell_type": "code",
   "execution_count": 115,
   "id": "eb525678",
   "metadata": {},
   "outputs": [
    {
     "name": "stdout",
     "output_type": "stream",
     "text": [
      "Accuracy on Cross Validation set : 0.822857142857143\n"
     ]
    }
   ],
   "source": [
    "best_accuracy_1 = grid_search_rf.best_score_\n",
    "print('Accuracy on Cross Validation set :',best_accuracy_1)"
   ]
  },
  {
   "cell_type": "code",
   "execution_count": 116,
   "id": "b2ee6003",
   "metadata": {},
   "outputs": [
    {
     "data": {
      "text/plain": [
       "{'class_weight': None, 'criterion': 'gini', 'n_estimators': 600}"
      ]
     },
     "execution_count": 116,
     "metadata": {},
     "output_type": "execute_result"
    }
   ],
   "source": [
    "best_parameters_2 = grid_search_rf.best_params_\n",
    "best_parameters_2"
   ]
  },
  {
   "cell_type": "code",
   "execution_count": 117,
   "id": "b21a7229",
   "metadata": {},
   "outputs": [],
   "source": [
    "y_pred_rf = grid_search_rf.predict(x_test)"
   ]
  },
  {
   "cell_type": "code",
   "execution_count": 118,
   "id": "0a95a4fc",
   "metadata": {},
   "outputs": [
    {
     "name": "stderr",
     "output_type": "stream",
     "text": [
      "C:\\Users\\amrit\\AppData\\Local\\Temp\\ipykernel_11140\\1715665440.py:8: FutureWarning: The frame.append method is deprecated and will be removed from pandas in a future version. Use pandas.concat instead.\n",
      "  model_results = model_results.append(model, ignore_index = True)\n"
     ]
    },
    {
     "data": {
      "text/html": [
       "<div>\n",
       "<style scoped>\n",
       "    .dataframe tbody tr th:only-of-type {\n",
       "        vertical-align: middle;\n",
       "    }\n",
       "\n",
       "    .dataframe tbody tr th {\n",
       "        vertical-align: top;\n",
       "    }\n",
       "\n",
       "    .dataframe thead th {\n",
       "        text-align: right;\n",
       "    }\n",
       "</style>\n",
       "<table border=\"1\" class=\"dataframe\">\n",
       "  <thead>\n",
       "    <tr style=\"text-align: right;\">\n",
       "      <th></th>\n",
       "      <th>Model</th>\n",
       "      <th>Accuracy</th>\n",
       "      <th>Precision</th>\n",
       "      <th>Recall</th>\n",
       "      <th>F1 Score</th>\n",
       "      <th>ROC</th>\n",
       "    </tr>\n",
       "  </thead>\n",
       "  <tbody>\n",
       "    <tr>\n",
       "      <th>0</th>\n",
       "      <td>Logistic Regression Tuned</td>\n",
       "      <td>0.825000</td>\n",
       "      <td>0.683333</td>\n",
       "      <td>0.322835</td>\n",
       "      <td>0.438503</td>\n",
       "      <td>0.641333</td>\n",
       "    </tr>\n",
       "    <tr>\n",
       "      <th>1</th>\n",
       "      <td>Stochastic Gradient Descent Tuned</td>\n",
       "      <td>0.815000</td>\n",
       "      <td>0.637931</td>\n",
       "      <td>0.291339</td>\n",
       "      <td>0.400000</td>\n",
       "      <td>0.623471</td>\n",
       "    </tr>\n",
       "    <tr>\n",
       "      <th>2</th>\n",
       "      <td>SVC MODEL TUNED</td>\n",
       "      <td>0.808333</td>\n",
       "      <td>0.642857</td>\n",
       "      <td>0.212598</td>\n",
       "      <td>0.319527</td>\n",
       "      <td>0.590443</td>\n",
       "    </tr>\n",
       "    <tr>\n",
       "      <th>3</th>\n",
       "      <td>KNN Model Tuned</td>\n",
       "      <td>0.803333</td>\n",
       "      <td>0.628571</td>\n",
       "      <td>0.173228</td>\n",
       "      <td>0.271605</td>\n",
       "      <td>0.572872</td>\n",
       "    </tr>\n",
       "    <tr>\n",
       "      <th>4</th>\n",
       "      <td>Decision Tree Tuned</td>\n",
       "      <td>0.828333</td>\n",
       "      <td>0.714286</td>\n",
       "      <td>0.314961</td>\n",
       "      <td>0.437158</td>\n",
       "      <td>0.640567</td>\n",
       "    </tr>\n",
       "    <tr>\n",
       "      <th>5</th>\n",
       "      <td>Random Forest Tuned</td>\n",
       "      <td>0.815000</td>\n",
       "      <td>0.633333</td>\n",
       "      <td>0.299213</td>\n",
       "      <td>0.406417</td>\n",
       "      <td>0.626350</td>\n",
       "    </tr>\n",
       "  </tbody>\n",
       "</table>\n",
       "</div>"
      ],
      "text/plain": [
       "                               Model  Accuracy  Precision    Recall  F1 Score  \\\n",
       "0          Logistic Regression Tuned  0.825000   0.683333  0.322835  0.438503   \n",
       "1  Stochastic Gradient Descent Tuned  0.815000   0.637931  0.291339  0.400000   \n",
       "2                    SVC MODEL TUNED  0.808333   0.642857  0.212598  0.319527   \n",
       "3                    KNN Model Tuned  0.803333   0.628571  0.173228  0.271605   \n",
       "4                Decision Tree Tuned  0.828333   0.714286  0.314961  0.437158   \n",
       "5                Random Forest Tuned  0.815000   0.633333  0.299213  0.406417   \n",
       "\n",
       "        ROC  \n",
       "0  0.641333  \n",
       "1  0.623471  \n",
       "2  0.590443  \n",
       "3  0.572872  \n",
       "4  0.640567  \n",
       "5  0.626350  "
      ]
     },
     "execution_count": 118,
     "metadata": {},
     "output_type": "execute_result"
    }
   ],
   "source": [
    "roc=roc_auc_score(y_test, y_pred_rf)\n",
    "acc = accuracy_score(y_test, y_pred_rf)\n",
    "prec = precision_score(y_test, y_pred_rf)\n",
    "rec = recall_score(y_test, y_pred_rf)\n",
    "f1 = f1_score(y_test, y_pred_rf)\n",
    "model=  pd.DataFrame([['Random Forest Tuned', acc,prec,rec, f1,roc]],\n",
    "               columns = ['Model', 'Accuracy', 'Precision', 'Recall', 'F1 Score','ROC'])\n",
    "model_results = model_results.append(model, ignore_index = True)\n",
    "model_results"
   ]
  },
  {
   "cell_type": "markdown",
   "id": "b290d2f7",
   "metadata": {},
   "source": [
    "# Grid Search on XGBOOST Classifier"
   ]
  },
  {
   "cell_type": "code",
   "execution_count": 119,
   "id": "45749973",
   "metadata": {},
   "outputs": [],
   "source": [
    "param_grid_xgb ={'n_estimators': [50,100,150,200], 'max_depth': [3,5,7,10], 'min_child_weight': [2,3,4,5]}\n",
    "grid_search_xgb = GridSearchCV(estimator=xgb,param_grid=param_grid_xgb,scoring='accuracy',cv=5,n_jobs=-1)\n",
    "grid_seaech_xgb = grid_search_xgb.fit(x_train,y_train)"
   ]
  },
  {
   "cell_type": "code",
   "execution_count": 120,
   "id": "8e1fe238",
   "metadata": {},
   "outputs": [
    {
     "name": "stdout",
     "output_type": "stream",
     "text": [
      "Accuracy on Cross Validation set : 0.8142857142857143\n"
     ]
    }
   ],
   "source": [
    "best_accuracy_1 = grid_search_xgb.best_score_\n",
    "print('Accuracy on Cross Validation set :',best_accuracy_1)"
   ]
  },
  {
   "cell_type": "code",
   "execution_count": 121,
   "id": "ee082edc",
   "metadata": {},
   "outputs": [
    {
     "data": {
      "text/plain": [
       "{'max_depth': 3, 'min_child_weight': 2, 'n_estimators': 50}"
      ]
     },
     "execution_count": 121,
     "metadata": {},
     "output_type": "execute_result"
    }
   ],
   "source": [
    "best_parameters_2 = grid_search_xgb.best_params_\n",
    "best_parameters_2"
   ]
  },
  {
   "cell_type": "code",
   "execution_count": 122,
   "id": "4ec59aa9",
   "metadata": {},
   "outputs": [],
   "source": [
    "y_pred_xgb = grid_search_xgb.predict(x_test)"
   ]
  },
  {
   "cell_type": "code",
   "execution_count": 123,
   "id": "20cf4183",
   "metadata": {},
   "outputs": [
    {
     "name": "stderr",
     "output_type": "stream",
     "text": [
      "C:\\Users\\amrit\\AppData\\Local\\Temp\\ipykernel_11140\\2506813591.py:8: FutureWarning: The frame.append method is deprecated and will be removed from pandas in a future version. Use pandas.concat instead.\n",
      "  model_results = model_results.append(model, ignore_index = True)\n"
     ]
    },
    {
     "data": {
      "text/html": [
       "<div>\n",
       "<style scoped>\n",
       "    .dataframe tbody tr th:only-of-type {\n",
       "        vertical-align: middle;\n",
       "    }\n",
       "\n",
       "    .dataframe tbody tr th {\n",
       "        vertical-align: top;\n",
       "    }\n",
       "\n",
       "    .dataframe thead th {\n",
       "        text-align: right;\n",
       "    }\n",
       "</style>\n",
       "<table border=\"1\" class=\"dataframe\">\n",
       "  <thead>\n",
       "    <tr style=\"text-align: right;\">\n",
       "      <th></th>\n",
       "      <th>Model</th>\n",
       "      <th>Accuracy</th>\n",
       "      <th>Precision</th>\n",
       "      <th>Recall</th>\n",
       "      <th>F1 Score</th>\n",
       "      <th>ROC</th>\n",
       "    </tr>\n",
       "  </thead>\n",
       "  <tbody>\n",
       "    <tr>\n",
       "      <th>0</th>\n",
       "      <td>Logistic Regression Tuned</td>\n",
       "      <td>0.825000</td>\n",
       "      <td>0.683333</td>\n",
       "      <td>0.322835</td>\n",
       "      <td>0.438503</td>\n",
       "      <td>0.641333</td>\n",
       "    </tr>\n",
       "    <tr>\n",
       "      <th>1</th>\n",
       "      <td>Stochastic Gradient Descent Tuned</td>\n",
       "      <td>0.815000</td>\n",
       "      <td>0.637931</td>\n",
       "      <td>0.291339</td>\n",
       "      <td>0.400000</td>\n",
       "      <td>0.623471</td>\n",
       "    </tr>\n",
       "    <tr>\n",
       "      <th>2</th>\n",
       "      <td>SVC MODEL TUNED</td>\n",
       "      <td>0.808333</td>\n",
       "      <td>0.642857</td>\n",
       "      <td>0.212598</td>\n",
       "      <td>0.319527</td>\n",
       "      <td>0.590443</td>\n",
       "    </tr>\n",
       "    <tr>\n",
       "      <th>3</th>\n",
       "      <td>KNN Model Tuned</td>\n",
       "      <td>0.803333</td>\n",
       "      <td>0.628571</td>\n",
       "      <td>0.173228</td>\n",
       "      <td>0.271605</td>\n",
       "      <td>0.572872</td>\n",
       "    </tr>\n",
       "    <tr>\n",
       "      <th>4</th>\n",
       "      <td>Decision Tree Tuned</td>\n",
       "      <td>0.828333</td>\n",
       "      <td>0.714286</td>\n",
       "      <td>0.314961</td>\n",
       "      <td>0.437158</td>\n",
       "      <td>0.640567</td>\n",
       "    </tr>\n",
       "    <tr>\n",
       "      <th>5</th>\n",
       "      <td>Random Forest Tuned</td>\n",
       "      <td>0.815000</td>\n",
       "      <td>0.633333</td>\n",
       "      <td>0.299213</td>\n",
       "      <td>0.406417</td>\n",
       "      <td>0.626350</td>\n",
       "    </tr>\n",
       "    <tr>\n",
       "      <th>6</th>\n",
       "      <td>XGBOOST Tuned</td>\n",
       "      <td>0.800000</td>\n",
       "      <td>0.553846</td>\n",
       "      <td>0.283465</td>\n",
       "      <td>0.375000</td>\n",
       "      <td>0.611077</td>\n",
       "    </tr>\n",
       "  </tbody>\n",
       "</table>\n",
       "</div>"
      ],
      "text/plain": [
       "                               Model  Accuracy  Precision    Recall  F1 Score  \\\n",
       "0          Logistic Regression Tuned  0.825000   0.683333  0.322835  0.438503   \n",
       "1  Stochastic Gradient Descent Tuned  0.815000   0.637931  0.291339  0.400000   \n",
       "2                    SVC MODEL TUNED  0.808333   0.642857  0.212598  0.319527   \n",
       "3                    KNN Model Tuned  0.803333   0.628571  0.173228  0.271605   \n",
       "4                Decision Tree Tuned  0.828333   0.714286  0.314961  0.437158   \n",
       "5                Random Forest Tuned  0.815000   0.633333  0.299213  0.406417   \n",
       "6                      XGBOOST Tuned  0.800000   0.553846  0.283465  0.375000   \n",
       "\n",
       "        ROC  \n",
       "0  0.641333  \n",
       "1  0.623471  \n",
       "2  0.590443  \n",
       "3  0.572872  \n",
       "4  0.640567  \n",
       "5  0.626350  \n",
       "6  0.611077  "
      ]
     },
     "execution_count": 123,
     "metadata": {},
     "output_type": "execute_result"
    }
   ],
   "source": [
    "roc=roc_auc_score(y_test, y_pred_xgb)\n",
    "acc = accuracy_score(y_test, y_pred_xgb)\n",
    "prec = precision_score(y_test, y_pred_xgb)\n",
    "rec = recall_score(y_test, y_pred_xgb)\n",
    "f1 = f1_score(y_test, y_pred_xgb)\n",
    "model =  pd.DataFrame([['XGBOOST Tuned', acc,prec,rec, f1,roc]],\n",
    "               columns = ['Model', 'Accuracy', 'Precision', 'Recall', 'F1 Score','ROC'])\n",
    "model_results = model_results.append(model, ignore_index = True)\n",
    "model_results"
   ]
  },
  {
   "cell_type": "markdown",
   "id": "91b124fe",
   "metadata": {},
   "source": [
    "# ROC Curve"
   ]
  },
  {
   "cell_type": "raw",
   "id": "524c7cdb",
   "metadata": {},
   "source": [
    "Receiver Operating Characteristic(ROC) summarizes the model’s performance by evaluating the trade offs between true positive rate (sensitivity) and false positive rate(1- specificity). For plotting ROC, it is advisable to assume p > 0.5 since we are more concerned about success rate.\n",
    "\n",
    "ROC summarizes the predictive power for all possible values of p > 0.5. The area under curve (AUC), referred to as index of accuracy(A) or concordance index, is a perfect performance metric for ROC curve. Higher the area under curve, better the prediction power of the model."
   ]
  },
  {
   "cell_type": "code",
   "execution_count": 124,
   "id": "a259e25c",
   "metadata": {},
   "outputs": [
    {
     "data": {
      "image/png": "[encoded data removed]",
      "text/plain": [
       "<Figure size 720x576 with 1 Axes>"
      ]
     },
     "metadata": {
      "needs_background": "light"
     },
     "output_type": "display_data"
    }
   ],
   "source": [
    "from sklearn import metrics\n",
    "\n",
    "# false positive rate,fpr= FP/(TN+FP) OR fpr=1-specificty, tpr=sensitivity \n",
    "y_pred_log_p =grid_search_log.predict_proba(x_test)[:,1]\n",
    "y_pred_sgd_p =grid_search_sgd.predict_proba(x_test)[:,1]\n",
    "#y_pred_svc_p =grid_search_1.predict_proba(X_test)[:,1]\n",
    "y_pred_knn_p =grid_search.predict_proba(x_test)[:,1]\n",
    "y_pred_dt_p =grid_search_dt.predict_proba(x_test)[:,1]\n",
    "y_pred_rf_p =grid_search_rf.predict_proba(x_test)[:,1]\n",
    "y_pred_xgb_p =grid_search_xgb.predict_proba(x_test)[:,1]\n",
    "\n",
    "model = [grid_search_log,grid_search_sgd,grid_search,grid_search_dt,grid_search_rf,grid_search_xgb]\n",
    "\n",
    "models=[y_pred_log_p,y_pred_sgd_p,y_pred_knn_p,y_pred_dt_p,y_pred_rf_p,y_pred_xgb_p]\n",
    "label=['Logistic','SGD','KNN','Decision Tree','Rando Forest','XGBoost']\n",
    "\n",
    "# plotting ROC curves\n",
    "plt.figure(figsize=(10, 8))\n",
    "m=np.arange(6)\n",
    "for m in m:\n",
    "    fpr, tpr,thresholds= metrics.roc_curve(y_test,models[m])\n",
    "    auc = metrics.roc_auc_score(y_test,model[m].predict(x_test))\n",
    "    plt.plot(fpr, tpr, label='%s ROC (area = %0.2f)' % (label[m], auc))\n",
    "plt.plot([0, 1], [0, 1],'r--')\n",
    "plt.xlim([0.0, 1.0])\n",
    "plt.ylim([0.0, 1.05])\n",
    "plt.xlabel('1-Specificity(False Positive Rate)')\n",
    "plt.ylabel('Sensitivity(True Positive Rate)')\n",
    "plt.title('Receiver Operating Characteristic')\n",
    "plt.legend(loc=\"lower right\")\n",
    "plt.show()"
   ]
  },
  {
   "cell_type": "raw",
   "id": "d6f06e59",
   "metadata": {},
   "source": [
    "For Model Evaluation we are referreing Confusion Matrix\n",
    "After we train a logistic regression model on some training data, we will evaluate the performance of the model on some test data. For this, we use the Confusion Matrix\n",
    "\n",
    "the accuracy of the model : - ( TP + TN ) / Total\n",
    "\n",
    "Here, TP stands for True Positive which are the cases in which we predicted yes and the actual value was true. TN stands for True Negative which are the cases in which we predicted no and the actual value was false.FP stands for False Positive which are the cases which we predicted yes and the actual value was False.FN stands for False Negative which are the cases which we predicted No and the actual value was true."
   ]
  },
  {
   "cell_type": "markdown",
   "id": "2a5dce83",
   "metadata": {},
   "source": [
    "# Conclusion\n",
    "1)Using a Logistic Regression classifier, we can predict with 82.5% accuracy, whether a customer is likely to default next month.\n",
    "\n",
    "2)Using a Stochastic Gradient Descent classifier, we can predict with 83.33% accuracy, whether a customer is likely to default next month.\n",
    "\n",
    "3)Using a Support Vector Machine classifier, we can predict with 80.83% accuracy, whether a customer is likely to default next month.\n",
    "\n",
    "4)Using a K-Nearest Neighbour classifier, we can predict with 80.83% accuracy, whether a customer is likely to default next month.\n",
    "\n",
    "5)Using a Decision Tree classifier, we can predict with 82.83% accuracy, whether a customer is likely to default next month.\n",
    "\n",
    "6)Using a Random Forest classifier, we can predict with 81% accuracy, whether a customer is likely to default next month.\n",
    "\n",
    "7)Using a XGBOOST classifier, we can predict with 82.16% accuracy, whether a customer is likely to default next month."
   ]
  },
  {
   "cell_type": "raw",
   "id": "de6dfdfa",
   "metadata": {},
   "source": [
    "The strongest predictors of default are the PAY_X (ie the repayment status in previous months), the LIMIT_BAL & the PAY_AMTX (amount paid in previous months).\n",
    "\n",
    "We found that using Stochastic Gradient Descent and Decision Tree are better."
   ]
  },
  {
   "cell_type": "raw",
   "id": "4068c192",
   "metadata": {},
   "source": [
    "Demographics: we see that being Female, More educated, Single and between 30-40years old means a customer is more likely to make payments on time."
   ]
  },
  {
   "cell_type": "code",
   "execution_count": null,
   "id": "0649d1ea",
   "metadata": {},
   "outputs": [],
   "source": []
  },
  {
   "cell_type": "code",
   "execution_count": null,
   "id": "255fbec2",
   "metadata": {},
   "outputs": [],
   "source": []
  },
  {
   "cell_type": "code",
   "execution_count": null,
   "id": "94e4d8b7",
   "metadata": {},
   "outputs": [],
   "source": []
  }
 ],
 "metadata": {
  "kernelspec": {
   "display_name": "Python 3 (ipykernel)",
   "language": "python",
   "name": "python3"
  },
  "language_info": {
   "codemirror_mode": {
    "name": "ipython",
    "version": 3
   },
   "file_extension": ".py",
   "mimetype": "text/x-python",
   "name": "python",
   "nbconvert_exporter": "python",
   "pygments_lexer": "ipython3",
   "version": "3.9.12"
  },
  "vscode": {
   "interpreter": {
    "hash": "0831c9a8f38bf0534c50bfaa0f7ad63ee7d3a6b807ce61f39252cf011aaed1cf"
   }
  }
 },
 "nbformat": 4,
 "nbformat_minor": 5
}
